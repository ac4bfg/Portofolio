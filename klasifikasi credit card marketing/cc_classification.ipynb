{
  "cells": [
    {
      "cell_type": "code",
      "execution_count": null,
      "metadata": {
        "id": "Vg-elwPXhhu0"
      },
      "outputs": [],
      "source": [
        "import pandas as pd\n",
        "import numpy as np\n",
        "import matplotlib.pyplot as plt\n",
        "import seaborn as sns\n",
        "from sklearn.svm import SVC\n",
        "from sklearn.naive_bayes import MultinomialNB\n",
        "from sklearn.linear_model import LogisticRegression\n",
        "from sklearn.model_selection import train_test_split\n",
        "from sklearn.metrics import accuracy_score, classification_report, confusion_matrix\n",
        "from sklearn.datasets import load_boston\n",
        "from imblearn.over_sampling import SMOTE\n",
        "from sklearn.preprocessing import StandardScaler, MinMaxScaler, OrdinalEncoder, OneHotEncoder"
      ]
    },
    {
      "cell_type": "code",
      "execution_count": null,
      "metadata": {
        "id": "sfxFoCoBh1Ig"
      },
      "outputs": [],
      "source": [
        "data = pd.read_csv('/dataset/creditcardmarketing-bbm.csv')"
      ]
    },
    {
      "cell_type": "code",
      "execution_count": null,
      "metadata": {
        "colab": {
          "base_uri": "https://localhost:8080/",
          "height": 257
        },
        "id": "9tg5JNqrh-TG",
        "outputId": "9dea57fe-b65c-4aa8-a88f-01fe3baefc04"
      },
      "outputs": [
        {
          "data": {
            "text/html": [
              "\n",
              "  <div id=\"df-58fdefc4-3707-4faa-9686-84164f29b7b8\">\n",
              "    <div class=\"colab-df-container\">\n",
              "      <div>\n",
              "<style scoped>\n",
              "    .dataframe tbody tr th:only-of-type {\n",
              "        vertical-align: middle;\n",
              "    }\n",
              "\n",
              "    .dataframe tbody tr th {\n",
              "        vertical-align: top;\n",
              "    }\n",
              "\n",
              "    .dataframe thead th {\n",
              "        text-align: right;\n",
              "    }\n",
              "</style>\n",
              "<table border=\"1\" class=\"dataframe\">\n",
              "  <thead>\n",
              "    <tr style=\"text-align: right;\">\n",
              "      <th></th>\n",
              "      <th>Customer Number</th>\n",
              "      <th>Offer Accepted</th>\n",
              "      <th>Reward</th>\n",
              "      <th>Mailer Type</th>\n",
              "      <th>Income Level</th>\n",
              "      <th># Bank Accounts Open</th>\n",
              "      <th>Overdraft Protection</th>\n",
              "      <th>Credit Rating</th>\n",
              "      <th># Credit Cards Held</th>\n",
              "      <th># Homes Owned</th>\n",
              "      <th>Household Size</th>\n",
              "      <th>Own Your Home</th>\n",
              "      <th>Average Balance</th>\n",
              "    </tr>\n",
              "  </thead>\n",
              "  <tbody>\n",
              "    <tr>\n",
              "      <th>0</th>\n",
              "      <td>1</td>\n",
              "      <td>No</td>\n",
              "      <td>Air Miles</td>\n",
              "      <td>Letter</td>\n",
              "      <td>High</td>\n",
              "      <td>1</td>\n",
              "      <td>No</td>\n",
              "      <td>High</td>\n",
              "      <td>2</td>\n",
              "      <td>1</td>\n",
              "      <td>4</td>\n",
              "      <td>No</td>\n",
              "      <td>1160.75</td>\n",
              "    </tr>\n",
              "    <tr>\n",
              "      <th>1</th>\n",
              "      <td>2</td>\n",
              "      <td>No</td>\n",
              "      <td>Air Miles</td>\n",
              "      <td>Letter</td>\n",
              "      <td>Medium</td>\n",
              "      <td>1</td>\n",
              "      <td>No</td>\n",
              "      <td>Medium</td>\n",
              "      <td>2</td>\n",
              "      <td>2</td>\n",
              "      <td>5</td>\n",
              "      <td>Yes</td>\n",
              "      <td>147.25</td>\n",
              "    </tr>\n",
              "    <tr>\n",
              "      <th>2</th>\n",
              "      <td>3</td>\n",
              "      <td>No</td>\n",
              "      <td>Air Miles</td>\n",
              "      <td>Postcard</td>\n",
              "      <td>High</td>\n",
              "      <td>2</td>\n",
              "      <td>No</td>\n",
              "      <td>Medium</td>\n",
              "      <td>2</td>\n",
              "      <td>1</td>\n",
              "      <td>2</td>\n",
              "      <td>Yes</td>\n",
              "      <td>276.50</td>\n",
              "    </tr>\n",
              "  </tbody>\n",
              "</table>\n",
              "</div>\n",
              "      <button class=\"colab-df-convert\" onclick=\"convertToInteractive('df-58fdefc4-3707-4faa-9686-84164f29b7b8')\"\n",
              "              title=\"Convert this dataframe to an interactive table.\"\n",
              "              style=\"display:none;\">\n",
              "        \n",
              "  <svg xmlns=\"http://www.w3.org/2000/svg\" height=\"24px\"viewBox=\"0 0 24 24\"\n",
              "       width=\"24px\">\n",
              "    <path d=\"M0 0h24v24H0V0z\" fill=\"none\"/>\n",
              "    <path d=\"M18.56 5.44l.94 2.06.94-2.06 2.06-.94-2.06-.94-.94-2.06-.94 2.06-2.06.94zm-11 1L8.5 8.5l.94-2.06 2.06-.94-2.06-.94L8.5 2.5l-.94 2.06-2.06.94zm10 10l.94 2.06.94-2.06 2.06-.94-2.06-.94-.94-2.06-.94 2.06-2.06.94z\"/><path d=\"M17.41 7.96l-1.37-1.37c-.4-.4-.92-.59-1.43-.59-.52 0-1.04.2-1.43.59L10.3 9.45l-7.72 7.72c-.78.78-.78 2.05 0 2.83L4 21.41c.39.39.9.59 1.41.59.51 0 1.02-.2 1.41-.59l7.78-7.78 2.81-2.81c.8-.78.8-2.07 0-2.86zM5.41 20L4 18.59l7.72-7.72 1.47 1.35L5.41 20z\"/>\n",
              "  </svg>\n",
              "      </button>\n",
              "      \n",
              "  <style>\n",
              "    .colab-df-container {\n",
              "      display:flex;\n",
              "      flex-wrap:wrap;\n",
              "      gap: 12px;\n",
              "    }\n",
              "\n",
              "    .colab-df-convert {\n",
              "      background-color: #E8F0FE;\n",
              "      border: none;\n",
              "      border-radius: 50%;\n",
              "      cursor: pointer;\n",
              "      display: none;\n",
              "      fill: #1967D2;\n",
              "      height: 32px;\n",
              "      padding: 0 0 0 0;\n",
              "      width: 32px;\n",
              "    }\n",
              "\n",
              "    .colab-df-convert:hover {\n",
              "      background-color: #E2EBFA;\n",
              "      box-shadow: 0px 1px 2px rgba(60, 64, 67, 0.3), 0px 1px 3px 1px rgba(60, 64, 67, 0.15);\n",
              "      fill: #174EA6;\n",
              "    }\n",
              "\n",
              "    [theme=dark] .colab-df-convert {\n",
              "      background-color: #3B4455;\n",
              "      fill: #D2E3FC;\n",
              "    }\n",
              "\n",
              "    [theme=dark] .colab-df-convert:hover {\n",
              "      background-color: #434B5C;\n",
              "      box-shadow: 0px 1px 3px 1px rgba(0, 0, 0, 0.15);\n",
              "      filter: drop-shadow(0px 1px 2px rgba(0, 0, 0, 0.3));\n",
              "      fill: #FFFFFF;\n",
              "    }\n",
              "  </style>\n",
              "\n",
              "      <script>\n",
              "        const buttonEl =\n",
              "          document.querySelector('#df-58fdefc4-3707-4faa-9686-84164f29b7b8 button.colab-df-convert');\n",
              "        buttonEl.style.display =\n",
              "          google.colab.kernel.accessAllowed ? 'block' : 'none';\n",
              "\n",
              "        async function convertToInteractive(key) {\n",
              "          const element = document.querySelector('#df-58fdefc4-3707-4faa-9686-84164f29b7b8');\n",
              "          const dataTable =\n",
              "            await google.colab.kernel.invokeFunction('convertToInteractive',\n",
              "                                                     [key], {});\n",
              "          if (!dataTable) return;\n",
              "\n",
              "          const docLinkHtml = 'Like what you see? Visit the ' +\n",
              "            '<a target=\"_blank\" href=https://colab.research.google.com/notebooks/data_table.ipynb>data table notebook</a>'\n",
              "            + ' to learn more about interactive tables.';\n",
              "          element.innerHTML = '';\n",
              "          dataTable['output_type'] = 'display_data';\n",
              "          await google.colab.output.renderOutput(dataTable, element);\n",
              "          const docLink = document.createElement('div');\n",
              "          docLink.innerHTML = docLinkHtml;\n",
              "          element.appendChild(docLink);\n",
              "        }\n",
              "      </script>\n",
              "    </div>\n",
              "  </div>\n",
              "  "
            ],
            "text/plain": [
              "   Customer Number Offer Accepted     Reward Mailer Type Income Level  \\\n",
              "0                1             No  Air Miles      Letter         High   \n",
              "1                2             No  Air Miles      Letter       Medium   \n",
              "2                3             No  Air Miles    Postcard         High   \n",
              "\n",
              "   # Bank Accounts Open Overdraft Protection Credit Rating  \\\n",
              "0                     1                   No          High   \n",
              "1                     1                   No        Medium   \n",
              "2                     2                   No        Medium   \n",
              "\n",
              "   # Credit Cards Held  # Homes Owned  Household Size Own Your Home  \\\n",
              "0                    2              1               4            No   \n",
              "1                    2              2               5           Yes   \n",
              "2                    2              1               2           Yes   \n",
              "\n",
              "   Average Balance  \n",
              "0          1160.75  \n",
              "1           147.25  \n",
              "2           276.50  "
            ]
          },
          "execution_count": 234,
          "metadata": {},
          "output_type": "execute_result"
        }
      ],
      "source": [
        "data.head(3)"
      ]
    },
    {
      "cell_type": "code",
      "execution_count": null,
      "metadata": {
        "colab": {
          "base_uri": "https://localhost:8080/"
        },
        "id": "hEm_3HL-iEBG",
        "outputId": "918fb91c-bc03-4bed-b9bb-53fa82743dfe"
      },
      "outputs": [
        {
          "name": "stdout",
          "output_type": "stream",
          "text": [
            "<class 'pandas.core.frame.DataFrame'>\n",
            "RangeIndex: 18000 entries, 0 to 17999\n",
            "Data columns (total 17 columns):\n",
            " #   Column                Non-Null Count  Dtype  \n",
            "---  ------                --------------  -----  \n",
            " 0   Customer Number       18000 non-null  int64  \n",
            " 1   Offer Accepted        18000 non-null  object \n",
            " 2   Reward                18000 non-null  object \n",
            " 3   Mailer Type           18000 non-null  object \n",
            " 4   Income Level          18000 non-null  object \n",
            " 5   # Bank Accounts Open  18000 non-null  int64  \n",
            " 6   Overdraft Protection  18000 non-null  object \n",
            " 7   Credit Rating         18000 non-null  object \n",
            " 8   # Credit Cards Held   18000 non-null  int64  \n",
            " 9   # Homes Owned         18000 non-null  int64  \n",
            " 10  Household Size        18000 non-null  int64  \n",
            " 11  Own Your Home         18000 non-null  object \n",
            " 12  Average Balance       17976 non-null  float64\n",
            " 13  Q1 Balance            17976 non-null  float64\n",
            " 14  Q2 Balance            17976 non-null  float64\n",
            " 15  Q3 Balance            17976 non-null  float64\n",
            " 16  Q4 Balance            17976 non-null  float64\n",
            "dtypes: float64(5), int64(5), object(7)\n",
            "memory usage: 2.3+ MB\n"
          ]
        }
      ],
      "source": [
        "data.info()"
      ]
    },
    {
      "cell_type": "code",
      "execution_count": null,
      "metadata": {
        "id": "0zpt_SiRtwPF"
      },
      "outputs": [],
      "source": [
        "def highlight(data):\n",
        "  highlight = data.value_counts().sort_index()\n",
        "  clrs = ['grey' if (x < max(highlight)) else 'red' for x in highlight]\n",
        "  return clrs"
      ]
    },
    {
      "cell_type": "code",
      "execution_count": null,
      "metadata": {
        "id": "w92IVBKm0rLZ"
      },
      "outputs": [],
      "source": [
        "def highlight2(data):\n",
        "  highlight = data.value_counts()\n",
        "  clrs = ['grey' if (x < max(highlight)) else 'red' for x in highlight]\n",
        "  return clrs"
      ]
    },
    {
      "cell_type": "markdown",
      "metadata": {
        "id": "oJXIHdnShAlf"
      },
      "source": [
        "# **Analisis & Eksplorasi Data**"
      ]
    },
    {
      "cell_type": "code",
      "execution_count": null,
      "metadata": {
        "colab": {
          "base_uri": "https://localhost:8080/",
          "height": 606
        },
        "id": "6aUUS2fRmO86",
        "outputId": "90bf6d6b-1302-42d3-df47-f4f88da271b3"
      },
      "outputs": [
        {
          "data": {
            "image/png": "[encoded data removed]",
            "text/plain": [
              "<Figure size 1080x720 with 1 Axes>"
            ]
          },
          "metadata": {
            "needs_background": "light"
          },
          "output_type": "display_data"
        }
      ],
      "source": [
        "plt.figure(figsize=(15,10))\n",
        "sns.countplot(data=data, x='Offer Accepted');"
      ]
    },
    {
      "cell_type": "markdown",
      "metadata": {
        "id": "QJJdUMa0hIeD"
      },
      "source": [
        "Jumlah data tidak seimbang untuk target dapat diatasi dengan oversampling"
      ]
    },
    {
      "cell_type": "code",
      "execution_count": null,
      "metadata": {
        "colab": {
          "base_uri": "https://localhost:8080/"
        },
        "id": "TKLtUA93nHnB",
        "outputId": "3d0e3d7f-53e1-4a34-992a-f573206d0031"
      },
      "outputs": [
        {
          "data": {
            "text/plain": [
              "No     16977\n",
              "Yes     1023\n",
              "Name: Offer Accepted, dtype: int64"
            ]
          },
          "execution_count": 179,
          "metadata": {},
          "output_type": "execute_result"
        }
      ],
      "source": [
        "data['Offer Accepted'].value_counts()"
      ]
    },
    {
      "cell_type": "markdown",
      "metadata": {
        "id": "JodI9BimhcYd"
      },
      "source": [
        "Memisahkan data accepted dan not accepted"
      ]
    },
    {
      "cell_type": "code",
      "execution_count": null,
      "metadata": {
        "id": "ZN1L23sYp8dV"
      },
      "outputs": [],
      "source": [
        "yes_data = data.loc[data['Offer Accepted'] == 'Yes']\n",
        "no_data = data.loc[data['Offer Accepted'] == 'No']"
      ]
    },
    {
      "cell_type": "code",
      "execution_count": null,
      "metadata": {
        "colab": {
          "base_uri": "https://localhost:8080/",
          "height": 274
        },
        "id": "vwfIdtJZwKGN",
        "outputId": "24cda653-fd64-4be4-d5d5-332e5e339de1"
      },
      "outputs": [
        {
          "data": {
            "text/html": [
              "\n",
              "  <div id=\"df-43c77ff8-6c28-46dc-abc0-526c1d619140\">\n",
              "    <div class=\"colab-df-container\">\n",
              "      <div>\n",
              "<style scoped>\n",
              "    .dataframe tbody tr th:only-of-type {\n",
              "        vertical-align: middle;\n",
              "    }\n",
              "\n",
              "    .dataframe tbody tr th {\n",
              "        vertical-align: top;\n",
              "    }\n",
              "\n",
              "    .dataframe thead th {\n",
              "        text-align: right;\n",
              "    }\n",
              "</style>\n",
              "<table border=\"1\" class=\"dataframe\">\n",
              "  <thead>\n",
              "    <tr style=\"text-align: right;\">\n",
              "      <th></th>\n",
              "      <th>Customer Number</th>\n",
              "      <th>Offer Accepted</th>\n",
              "      <th>Reward</th>\n",
              "      <th>Mailer Type</th>\n",
              "      <th>Income Level</th>\n",
              "      <th># Bank Accounts Open</th>\n",
              "      <th>Overdraft Protection</th>\n",
              "      <th>Credit Rating</th>\n",
              "      <th># Credit Cards Held</th>\n",
              "      <th># Homes Owned</th>\n",
              "      <th>Household Size</th>\n",
              "      <th>Own Your Home</th>\n",
              "      <th>Average Balance</th>\n",
              "      <th>Q1 Balance</th>\n",
              "      <th>Q2 Balance</th>\n",
              "      <th>Q3 Balance</th>\n",
              "      <th>Q4 Balance</th>\n",
              "    </tr>\n",
              "  </thead>\n",
              "  <tbody>\n",
              "    <tr>\n",
              "      <th>27</th>\n",
              "      <td>28</td>\n",
              "      <td>Yes</td>\n",
              "      <td>Air Miles</td>\n",
              "      <td>Letter</td>\n",
              "      <td>Medium</td>\n",
              "      <td>1</td>\n",
              "      <td>No</td>\n",
              "      <td>Low</td>\n",
              "      <td>1</td>\n",
              "      <td>1</td>\n",
              "      <td>2</td>\n",
              "      <td>No</td>\n",
              "      <td>769.50</td>\n",
              "      <td>54.0</td>\n",
              "      <td>515.0</td>\n",
              "      <td>1204.0</td>\n",
              "      <td>1305.0</td>\n",
              "    </tr>\n",
              "    <tr>\n",
              "      <th>45</th>\n",
              "      <td>46</td>\n",
              "      <td>Yes</td>\n",
              "      <td>Air Miles</td>\n",
              "      <td>Postcard</td>\n",
              "      <td>High</td>\n",
              "      <td>1</td>\n",
              "      <td>Yes</td>\n",
              "      <td>Low</td>\n",
              "      <td>2</td>\n",
              "      <td>1</td>\n",
              "      <td>5</td>\n",
              "      <td>Yes</td>\n",
              "      <td>851.25</td>\n",
              "      <td>206.0</td>\n",
              "      <td>467.0</td>\n",
              "      <td>1744.0</td>\n",
              "      <td>988.0</td>\n",
              "    </tr>\n",
              "    <tr>\n",
              "      <th>50</th>\n",
              "      <td>51</td>\n",
              "      <td>Yes</td>\n",
              "      <td>Air Miles</td>\n",
              "      <td>Postcard</td>\n",
              "      <td>Low</td>\n",
              "      <td>1</td>\n",
              "      <td>No</td>\n",
              "      <td>High</td>\n",
              "      <td>2</td>\n",
              "      <td>1</td>\n",
              "      <td>2</td>\n",
              "      <td>Yes</td>\n",
              "      <td>931.75</td>\n",
              "      <td>1536.0</td>\n",
              "      <td>1232.0</td>\n",
              "      <td>597.0</td>\n",
              "      <td>362.0</td>\n",
              "    </tr>\n",
              "  </tbody>\n",
              "</table>\n",
              "</div>\n",
              "      <button class=\"colab-df-convert\" onclick=\"convertToInteractive('df-43c77ff8-6c28-46dc-abc0-526c1d619140')\"\n",
              "              title=\"Convert this dataframe to an interactive table.\"\n",
              "              style=\"display:none;\">\n",
              "        \n",
              "  <svg xmlns=\"http://www.w3.org/2000/svg\" height=\"24px\"viewBox=\"0 0 24 24\"\n",
              "       width=\"24px\">\n",
              "    <path d=\"M0 0h24v24H0V0z\" fill=\"none\"/>\n",
              "    <path d=\"M18.56 5.44l.94 2.06.94-2.06 2.06-.94-2.06-.94-.94-2.06-.94 2.06-2.06.94zm-11 1L8.5 8.5l.94-2.06 2.06-.94-2.06-.94L8.5 2.5l-.94 2.06-2.06.94zm10 10l.94 2.06.94-2.06 2.06-.94-2.06-.94-.94-2.06-.94 2.06-2.06.94z\"/><path d=\"M17.41 7.96l-1.37-1.37c-.4-.4-.92-.59-1.43-.59-.52 0-1.04.2-1.43.59L10.3 9.45l-7.72 7.72c-.78.78-.78 2.05 0 2.83L4 21.41c.39.39.9.59 1.41.59.51 0 1.02-.2 1.41-.59l7.78-7.78 2.81-2.81c.8-.78.8-2.07 0-2.86zM5.41 20L4 18.59l7.72-7.72 1.47 1.35L5.41 20z\"/>\n",
              "  </svg>\n",
              "      </button>\n",
              "      \n",
              "  <style>\n",
              "    .colab-df-container {\n",
              "      display:flex;\n",
              "      flex-wrap:wrap;\n",
              "      gap: 12px;\n",
              "    }\n",
              "\n",
              "    .colab-df-convert {\n",
              "      background-color: #E8F0FE;\n",
              "      border: none;\n",
              "      border-radius: 50%;\n",
              "      cursor: pointer;\n",
              "      display: none;\n",
              "      fill: #1967D2;\n",
              "      height: 32px;\n",
              "      padding: 0 0 0 0;\n",
              "      width: 32px;\n",
              "    }\n",
              "\n",
              "    .colab-df-convert:hover {\n",
              "      background-color: #E2EBFA;\n",
              "      box-shadow: 0px 1px 2px rgba(60, 64, 67, 0.3), 0px 1px 3px 1px rgba(60, 64, 67, 0.15);\n",
              "      fill: #174EA6;\n",
              "    }\n",
              "\n",
              "    [theme=dark] .colab-df-convert {\n",
              "      background-color: #3B4455;\n",
              "      fill: #D2E3FC;\n",
              "    }\n",
              "\n",
              "    [theme=dark] .colab-df-convert:hover {\n",
              "      background-color: #434B5C;\n",
              "      box-shadow: 0px 1px 3px 1px rgba(0, 0, 0, 0.15);\n",
              "      filter: drop-shadow(0px 1px 2px rgba(0, 0, 0, 0.3));\n",
              "      fill: #FFFFFF;\n",
              "    }\n",
              "  </style>\n",
              "\n",
              "      <script>\n",
              "        const buttonEl =\n",
              "          document.querySelector('#df-43c77ff8-6c28-46dc-abc0-526c1d619140 button.colab-df-convert');\n",
              "        buttonEl.style.display =\n",
              "          google.colab.kernel.accessAllowed ? 'block' : 'none';\n",
              "\n",
              "        async function convertToInteractive(key) {\n",
              "          const element = document.querySelector('#df-43c77ff8-6c28-46dc-abc0-526c1d619140');\n",
              "          const dataTable =\n",
              "            await google.colab.kernel.invokeFunction('convertToInteractive',\n",
              "                                                     [key], {});\n",
              "          if (!dataTable) return;\n",
              "\n",
              "          const docLinkHtml = 'Like what you see? Visit the ' +\n",
              "            '<a target=\"_blank\" href=https://colab.research.google.com/notebooks/data_table.ipynb>data table notebook</a>'\n",
              "            + ' to learn more about interactive tables.';\n",
              "          element.innerHTML = '';\n",
              "          dataTable['output_type'] = 'display_data';\n",
              "          await google.colab.output.renderOutput(dataTable, element);\n",
              "          const docLink = document.createElement('div');\n",
              "          docLink.innerHTML = docLinkHtml;\n",
              "          element.appendChild(docLink);\n",
              "        }\n",
              "      </script>\n",
              "    </div>\n",
              "  </div>\n",
              "  "
            ],
            "text/plain": [
              "    Customer Number Offer Accepted     Reward Mailer Type Income Level  \\\n",
              "27               28            Yes  Air Miles      Letter       Medium   \n",
              "45               46            Yes  Air Miles    Postcard         High   \n",
              "50               51            Yes  Air Miles    Postcard          Low   \n",
              "\n",
              "    # Bank Accounts Open Overdraft Protection Credit Rating  \\\n",
              "27                     1                   No           Low   \n",
              "45                     1                  Yes           Low   \n",
              "50                     1                   No          High   \n",
              "\n",
              "    # Credit Cards Held  # Homes Owned  Household Size Own Your Home  \\\n",
              "27                    1              1               2            No   \n",
              "45                    2              1               5           Yes   \n",
              "50                    2              1               2           Yes   \n",
              "\n",
              "    Average Balance  Q1 Balance  Q2 Balance  Q3 Balance  Q4 Balance  \n",
              "27           769.50        54.0       515.0      1204.0      1305.0  \n",
              "45           851.25       206.0       467.0      1744.0       988.0  \n",
              "50           931.75      1536.0      1232.0       597.0       362.0  "
            ]
          },
          "execution_count": 182,
          "metadata": {},
          "output_type": "execute_result"
        }
      ],
      "source": [
        "yes_data.head(3)"
      ]
    },
    {
      "cell_type": "code",
      "execution_count": null,
      "metadata": {
        "colab": {
          "base_uri": "https://localhost:8080/",
          "height": 606
        },
        "id": "eGZovRxbnYf4",
        "outputId": "d3f5ff1e-9c91-44ee-a1ff-cf8a4ca84097"
      },
      "outputs": [
        {
          "data": {
            "image/png": "[encoded data removed]",
            "text/plain": [
              "<Figure size 1080x720 with 1 Axes>"
            ]
          },
          "metadata": {
            "needs_background": "light"
          },
          "output_type": "display_data"
        }
      ],
      "source": [
        "plt.figure(figsize=(15,10))\n",
        "clrs = highlight2(yes_data['Income Level'])\n",
        "sns.countplot(data=yes_data, x='Income Level', palette=clrs);"
      ]
    },
    {
      "cell_type": "markdown",
      "metadata": {
        "id": "s8_6KEvPhk51"
      },
      "source": [
        "Kebanyakan offering yang di accept mmemiliki income level medium"
      ]
    },
    {
      "cell_type": "code",
      "execution_count": null,
      "metadata": {
        "colab": {
          "base_uri": "https://localhost:8080/",
          "height": 606
        },
        "id": "5z1gF_0BoNW8",
        "outputId": "16b49556-c54a-4000-daad-7341d38bd585"
      },
      "outputs": [
        {
          "data": {
            "image/png": "[encoded data removed]",
            "text/plain": [
              "<Figure size 1080x720 with 1 Axes>"
            ]
          },
          "metadata": {
            "needs_background": "light"
          },
          "output_type": "display_data"
        }
      ],
      "source": [
        "plt.figure(figsize=(15,10))\n",
        "clrs = highlight2(yes_data['Credit Rating'])\n",
        "sns.countplot(data=yes_data, x='Credit Rating', palette=clrs);"
      ]
    },
    {
      "cell_type": "markdown",
      "metadata": {
        "id": "sqbmLZ9dhwLt"
      },
      "source": [
        "Kebanyakan offering yang di accept mmemiliki credit rating low"
      ]
    },
    {
      "cell_type": "code",
      "execution_count": null,
      "metadata": {
        "colab": {
          "base_uri": "https://localhost:8080/",
          "height": 606
        },
        "id": "C1x6_t8qoUly",
        "outputId": "7069f438-7646-4002-eafa-dbf8e302417f"
      },
      "outputs": [
        {
          "data": {
            "image/png": "[encoded data removed]",
            "text/plain": [
              "<Figure size 1080x720 with 1 Axes>"
            ]
          },
          "metadata": {
            "needs_background": "light"
          },
          "output_type": "display_data"
        }
      ],
      "source": [
        "plt.figure(figsize=(15,10))\n",
        "clrs = highlight(yes_data['# Credit Cards Held'])\n",
        "sns.countplot(data=yes_data, x='# Credit Cards Held', palette=clrs);"
      ]
    },
    {
      "cell_type": "markdown",
      "metadata": {
        "id": "vkve9MEQiENM"
      },
      "source": [
        "Dari skala 1 - 4 kebanyakan offering yang diterima yaitu orang yang memiliki kartu kredit dengan jumlah sebanyak 2 kartu"
      ]
    },
    {
      "cell_type": "code",
      "execution_count": null,
      "metadata": {
        "colab": {
          "base_uri": "https://localhost:8080/",
          "height": 606
        },
        "id": "y5dU1ExXpV5F",
        "outputId": "95f29f40-88df-4efa-bcb0-2e04c0de8b15"
      },
      "outputs": [
        {
          "data": {
            "image/png": "[encoded data removed]",
            "text/plain": [
              "<Figure size 1080x720 with 1 Axes>"
            ]
          },
          "metadata": {
            "needs_background": "light"
          },
          "output_type": "display_data"
        }
      ],
      "source": [
        "plt.figure(figsize=(15,10))\n",
        "clrs = highlight(yes_data['Reward'])\n",
        "sns.countplot(data=yes_data, x='Reward', palette=clrs);"
      ]
    },
    {
      "cell_type": "markdown",
      "metadata": {
        "id": "rw5_xHR0ir0x"
      },
      "source": [
        "Mayoritas pengguna yang offeringnya di accept yaitu yang mendapatkan reward dalam bentuk miles"
      ]
    },
    {
      "cell_type": "code",
      "execution_count": null,
      "metadata": {
        "colab": {
          "base_uri": "https://localhost:8080/",
          "height": 606
        },
        "id": "oZzTmgNbq8Mc",
        "outputId": "b1ac119f-1689-4308-a7f9-1419e4d09cee"
      },
      "outputs": [
        {
          "data": {
            "image/png": "[encoded data removed]",
            "text/plain": [
              "<Figure size 1080x720 with 1 Axes>"
            ]
          },
          "metadata": {
            "needs_background": "light"
          },
          "output_type": "display_data"
        }
      ],
      "source": [
        "plt.figure(figsize=(15,10))\n",
        "clrs = highlight(yes_data['Mailer Type'])\n",
        "sns.countplot(data=yes_data, x='Mailer Type', palette=clrs);"
      ]
    },
    {
      "cell_type": "markdown",
      "metadata": {
        "id": "_BiiWK3Ii9PK"
      },
      "source": [
        "Untuk mailer type yang paling sering di accept berbentuk postcard"
      ]
    },
    {
      "cell_type": "code",
      "execution_count": null,
      "metadata": {
        "colab": {
          "base_uri": "https://localhost:8080/",
          "height": 606
        },
        "id": "26RcOAEE0yAa",
        "outputId": "f198d90b-5fce-4b9e-a9a0-4848fd1a2032"
      },
      "outputs": [
        {
          "data": {
            "image/png": "[encoded data removed]",
            "text/plain": [
              "<Figure size 1080x720 with 1 Axes>"
            ]
          },
          "metadata": {
            "needs_background": "light"
          },
          "output_type": "display_data"
        }
      ],
      "source": [
        "plt.figure(figsize=(15,10))\n",
        "clrs = highlight(yes_data['# Bank Accounts Open'])\n",
        "sns.countplot(data=yes_data, x='# Bank Accounts Open', palette=clrs);"
      ]
    },
    {
      "cell_type": "markdown",
      "metadata": {
        "id": "Muucq4fnjRBx"
      },
      "source": [
        "Kebanyakan offering yang di accept yaitu orang yang memiliki bank account dengan jumlah 1"
      ]
    },
    {
      "cell_type": "code",
      "execution_count": null,
      "metadata": {
        "colab": {
          "base_uri": "https://localhost:8080/",
          "height": 606
        },
        "id": "WdztlHwn09Pl",
        "outputId": "db5e176f-99d6-4619-957d-993ce553480e"
      },
      "outputs": [
        {
          "data": {
            "image/png": "[encoded data removed]",
            "text/plain": [
              "<Figure size 1080x720 with 1 Axes>"
            ]
          },
          "metadata": {
            "needs_background": "light"
          },
          "output_type": "display_data"
        }
      ],
      "source": [
        "plt.figure(figsize=(15,10))\n",
        "clrs = highlight2(yes_data['Credit Rating'])\n",
        "sns.countplot(data=yes_data, x='Credit Rating', palette=clrs);"
      ]
    },
    {
      "cell_type": "markdown",
      "metadata": {
        "id": "b0CSewrJjcmX"
      },
      "source": [
        "Kebanyakan offering yang di accept memiliki credit rating low"
      ]
    },
    {
      "cell_type": "code",
      "execution_count": null,
      "metadata": {
        "colab": {
          "base_uri": "https://localhost:8080/",
          "height": 606
        },
        "id": "Co4cJIKv1DCO",
        "outputId": "08962458-b047-4c33-f7aa-e03f1e2072f5"
      },
      "outputs": [
        {
          "data": {
            "image/png": "[encoded data removed]",
            "text/plain": [
              "<Figure size 1080x720 with 1 Axes>"
            ]
          },
          "metadata": {
            "needs_background": "light"
          },
          "output_type": "display_data"
        }
      ],
      "source": [
        "plt.figure(figsize=(15,10))\n",
        "clrs = highlight(yes_data['# Homes Owned'])\n",
        "sns.countplot(data=yes_data, x='# Homes Owned', palette=clrs);"
      ]
    },
    {
      "cell_type": "markdown",
      "metadata": {
        "id": "z4VkpvMZjmws"
      },
      "source": [
        "Kebanyakan offering yang di accept yaitu orang yang memiliki rumah 1"
      ]
    },
    {
      "cell_type": "code",
      "execution_count": null,
      "metadata": {
        "colab": {
          "base_uri": "https://localhost:8080/",
          "height": 606
        },
        "id": "2S0z6ili1Jlj",
        "outputId": "e3eda601-c47f-4f2c-936d-fcdacef6c0ba"
      },
      "outputs": [
        {
          "data": {
            "image/png": "[encoded data removed]",
            "text/plain": [
              "<Figure size 1080x720 with 1 Axes>"
            ]
          },
          "metadata": {
            "needs_background": "light"
          },
          "output_type": "display_data"
        }
      ],
      "source": [
        "plt.figure(figsize=(15,10))\n",
        "clrs = highlight(yes_data['Household Size'])\n",
        "sns.countplot(data=yes_data, x='Household Size', palette=clrs);"
      ]
    },
    {
      "cell_type": "markdown",
      "metadata": {
        "id": "aHcBIOaqj9sn"
      },
      "source": [
        "Kebanyakan offering yang di accept yaitu orang yang memiliki household size 3"
      ]
    },
    {
      "cell_type": "code",
      "execution_count": null,
      "metadata": {
        "colab": {
          "base_uri": "https://localhost:8080/",
          "height": 606
        },
        "id": "dKzxKZwA1P4H",
        "outputId": "b4b2e592-b9bf-4ba4-98d9-df7e1acfe3a5"
      },
      "outputs": [
        {
          "data": {
            "image/png": "[encoded data removed]",
            "text/plain": [
              "<Figure size 1080x720 with 1 Axes>"
            ]
          },
          "metadata": {
            "needs_background": "light"
          },
          "output_type": "display_data"
        }
      ],
      "source": [
        "plt.figure(figsize=(15,10))\n",
        "clrs = highlight(yes_data['Own Your Home'])\n",
        "sns.countplot(data=yes_data, x='Own Your Home', palette=clrs);"
      ]
    },
    {
      "cell_type": "markdown",
      "metadata": {
        "id": "Hhax1OQ9kJmm"
      },
      "source": [
        "Kebanyakan offering yang di accept yaitu orang yang mempunyai kepemilikan atas rumah yang ditinggali"
      ]
    },
    {
      "cell_type": "markdown",
      "metadata": {
        "id": "GEpDP17nkeJM"
      },
      "source": [
        "# **Preprocessing Data**"
      ]
    },
    {
      "cell_type": "markdown",
      "metadata": {
        "id": "64aoILflkXUL"
      },
      "source": [
        "Mendeteksi outlier"
      ]
    },
    {
      "cell_type": "code",
      "execution_count": null,
      "metadata": {
        "colab": {
          "base_uri": "https://localhost:8080/",
          "height": 406
        },
        "id": "Qe3bpRxX1VQ5",
        "outputId": "ccb4fb67-6700-46c7-b736-93452bb32b6d"
      },
      "outputs": [
        {
          "data": {
            "text/plain": [
              "<matplotlib.axes._subplots.AxesSubplot at 0x7f61bc6d9750>"
            ]
          },
          "execution_count": 202,
          "metadata": {},
          "output_type": "execute_result"
        },
        {
          "data": {
            "image/png": "[encoded data removed]",
            "text/plain": [
              "<Figure size 576x432 with 1 Axes>"
            ]
          },
          "metadata": {
            "needs_background": "light"
          },
          "output_type": "display_data"
        }
      ],
      "source": [
        "plt.figure(figsize=(8,6))\n",
        "sns.boxplot(x=data['Average Balance'])"
      ]
    },
    {
      "cell_type": "code",
      "execution_count": null,
      "metadata": {
        "colab": {
          "base_uri": "https://localhost:8080/"
        },
        "id": "GEdd9oSu5Dxl",
        "outputId": "4ebd121d-8e2d-4a2b-ee0f-7d857539e050"
      },
      "outputs": [
        {
          "data": {
            "text/plain": [
              "934.980166503428"
            ]
          },
          "execution_count": 203,
          "metadata": {},
          "output_type": "execute_result"
        }
      ],
      "source": [
        "yes_data['Average Balance'].mean()"
      ]
    },
    {
      "cell_type": "code",
      "execution_count": null,
      "metadata": {
        "colab": {
          "base_uri": "https://localhost:8080/",
          "height": 406
        },
        "id": "IeqOrbzt4gfu",
        "outputId": "94ef75d3-1063-4574-d151-3a517bcafe49"
      },
      "outputs": [
        {
          "data": {
            "text/plain": [
              "<matplotlib.axes._subplots.AxesSubplot at 0x7f61bc53bc50>"
            ]
          },
          "execution_count": 204,
          "metadata": {},
          "output_type": "execute_result"
        },
        {
          "data": {
            "image/png": "[encoded data removed]",
            "text/plain": [
              "<Figure size 576x432 with 1 Axes>"
            ]
          },
          "metadata": {
            "needs_background": "light"
          },
          "output_type": "display_data"
        }
      ],
      "source": [
        "plt.figure(figsize=(8,6))\n",
        "sns.boxplot(x=data['Q1 Balance'])"
      ]
    },
    {
      "cell_type": "code",
      "execution_count": null,
      "metadata": {
        "colab": {
          "base_uri": "https://localhost:8080/"
        },
        "id": "eB_LzQUw5J7I",
        "outputId": "b2248537-9755-427a-ab9a-f3f51cbb39c5"
      },
      "outputs": [
        {
          "data": {
            "text/plain": [
              "868.6709108716944"
            ]
          },
          "execution_count": 205,
          "metadata": {},
          "output_type": "execute_result"
        }
      ],
      "source": [
        "yes_data['Q1 Balance'].mean()"
      ]
    },
    {
      "cell_type": "code",
      "execution_count": null,
      "metadata": {
        "colab": {
          "base_uri": "https://localhost:8080/",
          "height": 406
        },
        "id": "d7SxLvR540kF",
        "outputId": "ce8a3d42-0d38-407c-83ca-b8967c13523d"
      },
      "outputs": [
        {
          "data": {
            "text/plain": [
              "<matplotlib.axes._subplots.AxesSubplot at 0x7f61bc522a10>"
            ]
          },
          "execution_count": 206,
          "metadata": {},
          "output_type": "execute_result"
        },
        {
          "data": {
            "image/png": "[encoded data removed]",
            "text/plain": [
              "<Figure size 576x432 with 1 Axes>"
            ]
          },
          "metadata": {
            "needs_background": "light"
          },
          "output_type": "display_data"
        }
      ],
      "source": [
        "plt.figure(figsize=(8,6))\n",
        "sns.boxplot(x=data['Q2 Balance'])"
      ]
    },
    {
      "cell_type": "code",
      "execution_count": null,
      "metadata": {
        "colab": {
          "base_uri": "https://localhost:8080/"
        },
        "id": "EDheAeaV5OSq",
        "outputId": "90465300-4abe-415c-808a-eeb864cd74dd"
      },
      "outputs": [
        {
          "data": {
            "text/plain": [
              "998.8139079333986"
            ]
          },
          "execution_count": 207,
          "metadata": {},
          "output_type": "execute_result"
        }
      ],
      "source": [
        "yes_data['Q2 Balance'].mean()"
      ]
    },
    {
      "cell_type": "code",
      "execution_count": null,
      "metadata": {
        "colab": {
          "base_uri": "https://localhost:8080/",
          "height": 406
        },
        "id": "f5m7woFM45eD",
        "outputId": "f61e7be0-3d09-4201-a7ef-a4187e31472e"
      },
      "outputs": [
        {
          "data": {
            "text/plain": [
              "<matplotlib.axes._subplots.AxesSubplot at 0x7f61bc484150>"
            ]
          },
          "execution_count": 208,
          "metadata": {},
          "output_type": "execute_result"
        },
        {
          "data": {
            "image/png": "[encoded data removed]",
            "text/plain": [
              "<Figure size 576x432 with 1 Axes>"
            ]
          },
          "metadata": {
            "needs_background": "light"
          },
          "output_type": "display_data"
        }
      ],
      "source": [
        "plt.figure(figsize=(8,6))\n",
        "sns.boxplot(x=data['Q3 Balance'])"
      ]
    },
    {
      "cell_type": "code",
      "execution_count": null,
      "metadata": {
        "colab": {
          "base_uri": "https://localhost:8080/"
        },
        "id": "BF06CRFk5P_k",
        "outputId": "2ff76730-4198-4b61-b8da-2dea7c3a4269"
      },
      "outputs": [
        {
          "data": {
            "text/plain": [
              "1060.9294809010773"
            ]
          },
          "execution_count": 209,
          "metadata": {},
          "output_type": "execute_result"
        }
      ],
      "source": [
        "yes_data['Q3 Balance'].mean()"
      ]
    },
    {
      "cell_type": "code",
      "execution_count": null,
      "metadata": {
        "colab": {
          "base_uri": "https://localhost:8080/",
          "height": 406
        },
        "id": "oMuo_qsM48nH",
        "outputId": "7e8e06a9-4948-4987-ddb0-2bfaf8dce086"
      },
      "outputs": [
        {
          "data": {
            "text/plain": [
              "<matplotlib.axes._subplots.AxesSubplot at 0x7f61bc512e50>"
            ]
          },
          "execution_count": 210,
          "metadata": {},
          "output_type": "execute_result"
        },
        {
          "data": {
            "image/png": "[encoded data removed]",
            "text/plain": [
              "<Figure size 576x432 with 1 Axes>"
            ]
          },
          "metadata": {
            "needs_background": "light"
          },
          "output_type": "display_data"
        }
      ],
      "source": [
        "plt.figure(figsize=(8,6))\n",
        "sns.boxplot(x=data['Q4 Balance'])"
      ]
    },
    {
      "cell_type": "code",
      "execution_count": null,
      "metadata": {
        "colab": {
          "base_uri": "https://localhost:8080/"
        },
        "id": "pE5p0J7Y5RZE",
        "outputId": "53b27002-9819-4dea-d832-54a06e2a7d17"
      },
      "outputs": [
        {
          "data": {
            "text/plain": [
              "811.5063663075416"
            ]
          },
          "execution_count": 211,
          "metadata": {},
          "output_type": "execute_result"
        }
      ],
      "source": [
        "yes_data['Q4 Balance'].mean()"
      ]
    },
    {
      "cell_type": "markdown",
      "metadata": {
        "id": "fOFecziPp121"
      },
      "source": [
        "# Correllation Matrix"
      ]
    },
    {
      "cell_type": "markdown",
      "metadata": {
        "id": "z3JesJlSkicX"
      },
      "source": [
        "Membuat correllation matrix untuk memperkirakan variabel independen mana yang berkorelasi"
      ]
    },
    {
      "cell_type": "code",
      "execution_count": null,
      "metadata": {
        "id": "Rrqz6iFt-CRs"
      },
      "outputs": [],
      "source": [
        "offer_accepted_encod= {'No':0,\n",
        "                      'Yes':1}\n",
        "\n",
        "reward_encod = {'Air Miles':0,\n",
        "                'Cash Back':1,\n",
        "                'Points':2}\n",
        "\n",
        "mailer_type_encod = {'Postcard':0,\n",
        "                    'Letter':1}\n",
        "\n",
        "income_level_encod = {'Low':0,\n",
        "                      'Medium':1,\n",
        "                      'High':2}\n",
        "\n",
        "overdraft_protection_encod = {'No':0,\n",
        "                         'Yes':1}\n",
        "\n",
        "credit_rating_encod = {'Low':0,\n",
        "                      'Medium':1,\n",
        "                      'High':2}\n",
        "\n",
        "own_your_home_encod = {'No':0,\n",
        "                         'Yes':1}"
      ]
    },
    {
      "cell_type": "code",
      "execution_count": null,
      "metadata": {
        "id": "rgI5T8ES_soq"
      },
      "outputs": [],
      "source": [
        "data['Offer Accepted'] = data['Offer Accepted'].map(offer_accepted_encod)\n",
        "real_data = data.drop(['Customer Number'], axis=1)\n",
        "new_data = data"
      ]
    },
    {
      "cell_type": "code",
      "execution_count": null,
      "metadata": {
        "id": "5GXKoV-F15rJ"
      },
      "outputs": [],
      "source": [
        "new_data['Reward'] = new_data['Reward'].map(reward_encod)\n",
        "new_data['Mailer Type'] = new_data['Mailer Type'].map(mailer_type_encod)\n",
        "new_data['Income Level'] = new_data['Income Level'].map(income_level_encod)\n",
        "new_data['Overdraft Protection'] = new_data['Overdraft Protection'].map(overdraft_protection_encod)\n",
        "new_data['Credit Rating'] = new_data['Credit Rating'].map(credit_rating_encod)\n",
        "new_data['Own Your Home'] = new_data['Own Your Home'].map(own_your_home_encod)"
      ]
    },
    {
      "cell_type": "code",
      "execution_count": null,
      "metadata": {
        "colab": {
          "base_uri": "https://localhost:8080/"
        },
        "id": "2JqaIHh-AfoW",
        "outputId": "043e2ed4-0962-4bae-94ce-744bd514c43b"
      },
      "outputs": [
        {
          "data": {
            "text/html": [
              "\n",
              "  <div id=\"df-c89fb29b-1451-4ae7-a815-59112f064c4c\">\n",
              "    <div class=\"colab-df-container\">\n",
              "      <div>\n",
              "<style scoped>\n",
              "    .dataframe tbody tr th:only-of-type {\n",
              "        vertical-align: middle;\n",
              "    }\n",
              "\n",
              "    .dataframe tbody tr th {\n",
              "        vertical-align: top;\n",
              "    }\n",
              "\n",
              "    .dataframe thead th {\n",
              "        text-align: right;\n",
              "    }\n",
              "</style>\n",
              "<table border=\"1\" class=\"dataframe\">\n",
              "  <thead>\n",
              "    <tr style=\"text-align: right;\">\n",
              "      <th></th>\n",
              "      <th>Customer Number</th>\n",
              "      <th>Offer Accepted</th>\n",
              "      <th>Reward</th>\n",
              "      <th>Mailer Type</th>\n",
              "      <th>Income Level</th>\n",
              "      <th># Bank Accounts Open</th>\n",
              "      <th>Overdraft Protection</th>\n",
              "      <th>Credit Rating</th>\n",
              "      <th># Credit Cards Held</th>\n",
              "      <th># Homes Owned</th>\n",
              "      <th>Household Size</th>\n",
              "      <th>Own Your Home</th>\n",
              "      <th>Average Balance</th>\n",
              "      <th>Q1 Balance</th>\n",
              "      <th>Q2 Balance</th>\n",
              "      <th>Q3 Balance</th>\n",
              "      <th>Q4 Balance</th>\n",
              "    </tr>\n",
              "  </thead>\n",
              "  <tbody>\n",
              "    <tr>\n",
              "      <th>0</th>\n",
              "      <td>1</td>\n",
              "      <td>0</td>\n",
              "      <td>0</td>\n",
              "      <td>1</td>\n",
              "      <td>2</td>\n",
              "      <td>1</td>\n",
              "      <td>0</td>\n",
              "      <td>2</td>\n",
              "      <td>2</td>\n",
              "      <td>1</td>\n",
              "      <td>4</td>\n",
              "      <td>0</td>\n",
              "      <td>1160.75</td>\n",
              "      <td>1669.0</td>\n",
              "      <td>877.0</td>\n",
              "      <td>1095.0</td>\n",
              "      <td>1002.0</td>\n",
              "    </tr>\n",
              "    <tr>\n",
              "      <th>1</th>\n",
              "      <td>2</td>\n",
              "      <td>0</td>\n",
              "      <td>0</td>\n",
              "      <td>1</td>\n",
              "      <td>1</td>\n",
              "      <td>1</td>\n",
              "      <td>0</td>\n",
              "      <td>1</td>\n",
              "      <td>2</td>\n",
              "      <td>2</td>\n",
              "      <td>5</td>\n",
              "      <td>1</td>\n",
              "      <td>147.25</td>\n",
              "      <td>39.0</td>\n",
              "      <td>106.0</td>\n",
              "      <td>78.0</td>\n",
              "      <td>366.0</td>\n",
              "    </tr>\n",
              "    <tr>\n",
              "      <th>2</th>\n",
              "      <td>3</td>\n",
              "      <td>0</td>\n",
              "      <td>0</td>\n",
              "      <td>0</td>\n",
              "      <td>2</td>\n",
              "      <td>2</td>\n",
              "      <td>0</td>\n",
              "      <td>1</td>\n",
              "      <td>2</td>\n",
              "      <td>1</td>\n",
              "      <td>2</td>\n",
              "      <td>1</td>\n",
              "      <td>276.50</td>\n",
              "      <td>367.0</td>\n",
              "      <td>352.0</td>\n",
              "      <td>145.0</td>\n",
              "      <td>242.0</td>\n",
              "    </tr>\n",
              "  </tbody>\n",
              "</table>\n",
              "</div>\n",
              "      <button class=\"colab-df-convert\" onclick=\"convertToInteractive('df-c89fb29b-1451-4ae7-a815-59112f064c4c')\"\n",
              "              title=\"Convert this dataframe to an interactive table.\"\n",
              "              style=\"display:none;\">\n",
              "        \n",
              "  <svg xmlns=\"http://www.w3.org/2000/svg\" height=\"24px\"viewBox=\"0 0 24 24\"\n",
              "       width=\"24px\">\n",
              "    <path d=\"M0 0h24v24H0V0z\" fill=\"none\"/>\n",
              "    <path d=\"M18.56 5.44l.94 2.06.94-2.06 2.06-.94-2.06-.94-.94-2.06-.94 2.06-2.06.94zm-11 1L8.5 8.5l.94-2.06 2.06-.94-2.06-.94L8.5 2.5l-.94 2.06-2.06.94zm10 10l.94 2.06.94-2.06 2.06-.94-2.06-.94-.94-2.06-.94 2.06-2.06.94z\"/><path d=\"M17.41 7.96l-1.37-1.37c-.4-.4-.92-.59-1.43-.59-.52 0-1.04.2-1.43.59L10.3 9.45l-7.72 7.72c-.78.78-.78 2.05 0 2.83L4 21.41c.39.39.9.59 1.41.59.51 0 1.02-.2 1.41-.59l7.78-7.78 2.81-2.81c.8-.78.8-2.07 0-2.86zM5.41 20L4 18.59l7.72-7.72 1.47 1.35L5.41 20z\"/>\n",
              "  </svg>\n",
              "      </button>\n",
              "      \n",
              "  <style>\n",
              "    .colab-df-container {\n",
              "      display:flex;\n",
              "      flex-wrap:wrap;\n",
              "      gap: 12px;\n",
              "    }\n",
              "\n",
              "    .colab-df-convert {\n",
              "      background-color: #E8F0FE;\n",
              "      border: none;\n",
              "      border-radius: 50%;\n",
              "      cursor: pointer;\n",
              "      display: none;\n",
              "      fill: #1967D2;\n",
              "      height: 32px;\n",
              "      padding: 0 0 0 0;\n",
              "      width: 32px;\n",
              "    }\n",
              "\n",
              "    .colab-df-convert:hover {\n",
              "      background-color: #E2EBFA;\n",
              "      box-shadow: 0px 1px 2px rgba(60, 64, 67, 0.3), 0px 1px 3px 1px rgba(60, 64, 67, 0.15);\n",
              "      fill: #174EA6;\n",
              "    }\n",
              "\n",
              "    [theme=dark] .colab-df-convert {\n",
              "      background-color: #3B4455;\n",
              "      fill: #D2E3FC;\n",
              "    }\n",
              "\n",
              "    [theme=dark] .colab-df-convert:hover {\n",
              "      background-color: #434B5C;\n",
              "      box-shadow: 0px 1px 3px 1px rgba(0, 0, 0, 0.15);\n",
              "      filter: drop-shadow(0px 1px 2px rgba(0, 0, 0, 0.3));\n",
              "      fill: #FFFFFF;\n",
              "    }\n",
              "  </style>\n",
              "\n",
              "      <script>\n",
              "        const buttonEl =\n",
              "          document.querySelector('#df-c89fb29b-1451-4ae7-a815-59112f064c4c button.colab-df-convert');\n",
              "        buttonEl.style.display =\n",
              "          google.colab.kernel.accessAllowed ? 'block' : 'none';\n",
              "\n",
              "        async function convertToInteractive(key) {\n",
              "          const element = document.querySelector('#df-c89fb29b-1451-4ae7-a815-59112f064c4c');\n",
              "          const dataTable =\n",
              "            await google.colab.kernel.invokeFunction('convertToInteractive',\n",
              "                                                     [key], {});\n",
              "          if (!dataTable) return;\n",
              "\n",
              "          const docLinkHtml = 'Like what you see? Visit the ' +\n",
              "            '<a target=\"_blank\" href=https://colab.research.google.com/notebooks/data_table.ipynb>data table notebook</a>'\n",
              "            + ' to learn more about interactive tables.';\n",
              "          element.innerHTML = '';\n",
              "          dataTable['output_type'] = 'display_data';\n",
              "          await google.colab.output.renderOutput(dataTable, element);\n",
              "          const docLink = document.createElement('div');\n",
              "          docLink.innerHTML = docLinkHtml;\n",
              "          element.appendChild(docLink);\n",
              "        }\n",
              "      </script>\n",
              "    </div>\n",
              "  </div>\n",
              "  "
            ],
            "text/plain": [
              "   Customer Number  Offer Accepted  Reward  Mailer Type  Income Level  \\\n",
              "0                1               0       0            1             2   \n",
              "1                2               0       0            1             1   \n",
              "2                3               0       0            0             2   \n",
              "\n",
              "   # Bank Accounts Open  Overdraft Protection  Credit Rating  \\\n",
              "0                     1                     0              2   \n",
              "1                     1                     0              1   \n",
              "2                     2                     0              1   \n",
              "\n",
              "   # Credit Cards Held  # Homes Owned  Household Size  Own Your Home  \\\n",
              "0                    2              1               4              0   \n",
              "1                    2              2               5              1   \n",
              "2                    2              1               2              1   \n",
              "\n",
              "   Average Balance  Q1 Balance  Q2 Balance  Q3 Balance  Q4 Balance  \n",
              "0          1160.75      1669.0       877.0      1095.0      1002.0  \n",
              "1           147.25        39.0       106.0        78.0       366.0  \n",
              "2           276.50       367.0       352.0       145.0       242.0  "
            ]
          },
          "execution_count": 34,
          "metadata": {},
          "output_type": "execute_result"
        }
      ],
      "source": [
        "new_data.head(3)"
      ]
    },
    {
      "cell_type": "code",
      "execution_count": null,
      "metadata": {
        "colab": {
          "base_uri": "https://localhost:8080/"
        },
        "id": "yueJWVVfA7lr",
        "outputId": "9aa25013-c6dc-45ec-a785-5b39e03f7997"
      },
      "outputs": [
        {
          "data": {
            "image/png": "[encoded data removed]",
            "text/plain": [
              "<Figure size 1080x720 with 2 Axes>"
            ]
          },
          "metadata": {},
          "output_type": "display_data"
        }
      ],
      "source": [
        "plt.figure(figsize=(15,10))\n",
        "sns.heatmap(new_data.corr(), annot=True, cmap='BrBG');"
      ]
    },
    {
      "cell_type": "markdown",
      "metadata": {
        "id": "_vDipwUklBNy"
      },
      "source": [
        "Tidak ada satupun dari variabel yang berkorelasi kuat dengan target (Offer Accepted)"
      ]
    },
    {
      "cell_type": "markdown",
      "metadata": {
        "id": "7T9U4N9FlTLV"
      },
      "source": [
        "Delete unused column"
      ]
    },
    {
      "cell_type": "code",
      "execution_count": null,
      "metadata": {
        "colab": {
          "base_uri": "https://localhost:8080/"
        },
        "id": "rRARwpLnwTW0",
        "outputId": "be34bd2f-42bc-4784-eb43-af456504fa40"
      },
      "outputs": [
        {
          "name": "stdout",
          "output_type": "stream",
          "text": [
            "<class 'pandas.core.frame.DataFrame'>\n",
            "RangeIndex: 18000 entries, 0 to 17999\n",
            "Data columns (total 12 columns):\n",
            " #   Column                Non-Null Count  Dtype  \n",
            "---  ------                --------------  -----  \n",
            " 0   Offer Accepted        18000 non-null  int64  \n",
            " 1   Reward                18000 non-null  object \n",
            " 2   Mailer Type           18000 non-null  object \n",
            " 3   Income Level          18000 non-null  object \n",
            " 4   # Bank Accounts Open  18000 non-null  int64  \n",
            " 5   Overdraft Protection  18000 non-null  object \n",
            " 6   Credit Rating         18000 non-null  object \n",
            " 7   # Credit Cards Held   18000 non-null  int64  \n",
            " 8   # Homes Owned         18000 non-null  int64  \n",
            " 9   Household Size        18000 non-null  int64  \n",
            " 10  Own Your Home         18000 non-null  object \n",
            " 11  Average Balance       17976 non-null  float64\n",
            "dtypes: float64(1), int64(5), object(6)\n",
            "memory usage: 1.6+ MB\n"
          ]
        }
      ],
      "source": [
        "data = real_data.drop(['Q1 Balance', 'Q2 Balance', 'Q3 Balance', 'Q4 Balance'], axis=1)\n",
        "data.info()"
      ]
    },
    {
      "cell_type": "markdown",
      "metadata": {
        "id": "Ws2IlPNvlQ5H"
      },
      "source": [
        "# Handling Missing Value Data"
      ]
    },
    {
      "cell_type": "code",
      "execution_count": null,
      "metadata": {
        "colab": {
          "base_uri": "https://localhost:8080/"
        },
        "id": "LQSi1nBbyRxy",
        "outputId": "a73ba22f-9cc3-4bab-fdce-a153c4d890f5"
      },
      "outputs": [
        {
          "data": {
            "text/plain": [
              "Offer Accepted           0\n",
              "Reward                   0\n",
              "Mailer Type              0\n",
              "Income Level             0\n",
              "# Bank Accounts Open     0\n",
              "Overdraft Protection     0\n",
              "Credit Rating            0\n",
              "# Credit Cards Held      0\n",
              "# Homes Owned            0\n",
              "Household Size           0\n",
              "Own Your Home            0\n",
              "Average Balance         24\n",
              "dtype: int64"
            ]
          },
          "execution_count": 37,
          "metadata": {},
          "output_type": "execute_result"
        }
      ],
      "source": [
        "data.isnull().sum()"
      ]
    },
    {
      "cell_type": "code",
      "execution_count": null,
      "metadata": {
        "colab": {
          "base_uri": "https://localhost:8080/"
        },
        "id": "fH3qJWUUxaEQ",
        "outputId": "cdbae0cb-0741-444d-eaae-25c83383e458"
      },
      "outputs": [
        {
          "name": "stderr",
          "output_type": "stream",
          "text": [
            "/usr/local/lib/python3.7/dist-packages/seaborn/distributions.py:2619: FutureWarning: `distplot` is a deprecated function and will be removed in a future version. Please adapt your code to use either `displot` (a figure-level function with similar flexibility) or `histplot` (an axes-level function for histograms).\n",
            "  warnings.warn(msg, FutureWarning)\n"
          ]
        },
        {
          "data": {
            "image/png": "[encoded data removed]",
            "text/plain": [
              "<Figure size 864x432 with 1 Axes>"
            ]
          },
          "metadata": {},
          "output_type": "display_data"
        }
      ],
      "source": [
        "plt.figure(figsize=(12,6))\n",
        "sns.set_theme()\n",
        "sns.distplot(data['Average Balance'])\n",
        "plt.show()"
      ]
    },
    {
      "cell_type": "markdown",
      "metadata": {
        "id": "osylRGX6losR"
      },
      "source": [
        "jika dilihat dari distribusi data average balance, data ini memiliki distribusi yang tidak normal. sebaran mengalami left skew, dan kemungkinan ada outlier pada umur yang lebih besar\n",
        "\n",
        "perlu diperhatikan ketika akan mengisi null value menggunakan \"mean\" karena jika data tidak berdistribusi normal, maka tidak disarankan untuk pengisian null value menggunakan \"mean\" dikarenakan nilai \"mean\" akan bergeser dipengaruhi nilai outlier sehingga nilai \"mean\" tidak mewakili keseluruhan data.\n",
        "\n",
        "jika distribusi data tidak normal, lebih baik menggunakan median / modus, karena nilainya lebih tahan terhadap adanya outlier, sehingga lebih bisa mewakili keseluruhan data."
      ]
    },
    {
      "cell_type": "code",
      "execution_count": null,
      "metadata": {
        "colab": {
          "base_uri": "https://localhost:8080/"
        },
        "id": "99Fyo-TnxbkI",
        "outputId": "4f41581c-3f31-4d52-f76f-d689e7563f03"
      },
      "outputs": [
        {
          "data": {
            "text/plain": [
              "Offer Accepted          0\n",
              "Reward                  0\n",
              "Mailer Type             0\n",
              "Income Level            0\n",
              "# Bank Accounts Open    0\n",
              "Overdraft Protection    0\n",
              "Credit Rating           0\n",
              "# Credit Cards Held     0\n",
              "# Homes Owned           0\n",
              "Household Size          0\n",
              "Own Your Home           0\n",
              "Average Balance         0\n",
              "dtype: int64"
            ]
          },
          "execution_count": 39,
          "metadata": {},
          "output_type": "execute_result"
        }
      ],
      "source": [
        "data['Average Balance'].fillna(data['Average Balance'].median(), inplace = True)\n",
        "data.isnull().sum()"
      ]
    },
    {
      "cell_type": "markdown",
      "metadata": {
        "id": "biwu2GHgmCah"
      },
      "source": [
        "# Handling Duplicate Data"
      ]
    },
    {
      "cell_type": "code",
      "execution_count": null,
      "metadata": {
        "colab": {
          "base_uri": "https://localhost:8080/"
        },
        "id": "sWowRed0ysjV",
        "outputId": "d0c6fe3f-627e-4b30-8e7e-137fea938181"
      },
      "outputs": [
        {
          "data": {
            "text/plain": [
              "Offer Accepted                                                          0\n",
              "Reward                  Cash BackAir MilesCash BackCash BackAir MilesP...\n",
              "Mailer Type             PostcardPostcardLetterPostcardPostcardLetterLe...\n",
              "Income Level            MediumMediumHighLowMediumHighLowLowHighMediumM...\n",
              "# Bank Accounts Open                                                   16\n",
              "Overdraft Protection                         NoNoNoNoNoNoNoNoNoNoNoNoNoNo\n",
              "Credit Rating           LowMediumMediumMediumLowLowHighHighMediumHighL...\n",
              "# Credit Cards Held                                                    27\n",
              "# Homes Owned                                                          14\n",
              "Household Size                                                         49\n",
              "Own Your Home                      YesYesYesYesYesNoYesYesNoNoNoYesYesYes\n",
              "Average Balance                                                  13261.25\n",
              "dtype: object"
            ]
          },
          "execution_count": 40,
          "metadata": {},
          "output_type": "execute_result"
        }
      ],
      "source": [
        "data[data.duplicated()].sum()"
      ]
    },
    {
      "cell_type": "code",
      "execution_count": null,
      "metadata": {
        "colab": {
          "base_uri": "https://localhost:8080/"
        },
        "id": "ZZn2xHuKzhVh",
        "outputId": "4b3eb231-e918-4c3d-e169-102a8a9a3969"
      },
      "outputs": [
        {
          "data": {
            "text/html": [
              "\n",
              "  <div id=\"df-8392ab6c-978c-46d8-8786-000044aaf43c\">\n",
              "    <div class=\"colab-df-container\">\n",
              "      <div>\n",
              "<style scoped>\n",
              "    .dataframe tbody tr th:only-of-type {\n",
              "        vertical-align: middle;\n",
              "    }\n",
              "\n",
              "    .dataframe tbody tr th {\n",
              "        vertical-align: top;\n",
              "    }\n",
              "\n",
              "    .dataframe thead th {\n",
              "        text-align: right;\n",
              "    }\n",
              "</style>\n",
              "<table border=\"1\" class=\"dataframe\">\n",
              "  <thead>\n",
              "    <tr style=\"text-align: right;\">\n",
              "      <th></th>\n",
              "      <th>Offer Accepted</th>\n",
              "      <th>Reward</th>\n",
              "      <th>Mailer Type</th>\n",
              "      <th>Income Level</th>\n",
              "      <th># Bank Accounts Open</th>\n",
              "      <th>Overdraft Protection</th>\n",
              "      <th>Credit Rating</th>\n",
              "      <th># Credit Cards Held</th>\n",
              "      <th># Homes Owned</th>\n",
              "      <th>Household Size</th>\n",
              "      <th>Own Your Home</th>\n",
              "      <th>Average Balance</th>\n",
              "    </tr>\n",
              "  </thead>\n",
              "  <tbody>\n",
              "  </tbody>\n",
              "</table>\n",
              "</div>\n",
              "      <button class=\"colab-df-convert\" onclick=\"convertToInteractive('df-8392ab6c-978c-46d8-8786-000044aaf43c')\"\n",
              "              title=\"Convert this dataframe to an interactive table.\"\n",
              "              style=\"display:none;\">\n",
              "        \n",
              "  <svg xmlns=\"http://www.w3.org/2000/svg\" height=\"24px\"viewBox=\"0 0 24 24\"\n",
              "       width=\"24px\">\n",
              "    <path d=\"M0 0h24v24H0V0z\" fill=\"none\"/>\n",
              "    <path d=\"M18.56 5.44l.94 2.06.94-2.06 2.06-.94-2.06-.94-.94-2.06-.94 2.06-2.06.94zm-11 1L8.5 8.5l.94-2.06 2.06-.94-2.06-.94L8.5 2.5l-.94 2.06-2.06.94zm10 10l.94 2.06.94-2.06 2.06-.94-2.06-.94-.94-2.06-.94 2.06-2.06.94z\"/><path d=\"M17.41 7.96l-1.37-1.37c-.4-.4-.92-.59-1.43-.59-.52 0-1.04.2-1.43.59L10.3 9.45l-7.72 7.72c-.78.78-.78 2.05 0 2.83L4 21.41c.39.39.9.59 1.41.59.51 0 1.02-.2 1.41-.59l7.78-7.78 2.81-2.81c.8-.78.8-2.07 0-2.86zM5.41 20L4 18.59l7.72-7.72 1.47 1.35L5.41 20z\"/>\n",
              "  </svg>\n",
              "      </button>\n",
              "      \n",
              "  <style>\n",
              "    .colab-df-container {\n",
              "      display:flex;\n",
              "      flex-wrap:wrap;\n",
              "      gap: 12px;\n",
              "    }\n",
              "\n",
              "    .colab-df-convert {\n",
              "      background-color: #E8F0FE;\n",
              "      border: none;\n",
              "      border-radius: 50%;\n",
              "      cursor: pointer;\n",
              "      display: none;\n",
              "      fill: #1967D2;\n",
              "      height: 32px;\n",
              "      padding: 0 0 0 0;\n",
              "      width: 32px;\n",
              "    }\n",
              "\n",
              "    .colab-df-convert:hover {\n",
              "      background-color: #E2EBFA;\n",
              "      box-shadow: 0px 1px 2px rgba(60, 64, 67, 0.3), 0px 1px 3px 1px rgba(60, 64, 67, 0.15);\n",
              "      fill: #174EA6;\n",
              "    }\n",
              "\n",
              "    [theme=dark] .colab-df-convert {\n",
              "      background-color: #3B4455;\n",
              "      fill: #D2E3FC;\n",
              "    }\n",
              "\n",
              "    [theme=dark] .colab-df-convert:hover {\n",
              "      background-color: #434B5C;\n",
              "      box-shadow: 0px 1px 3px 1px rgba(0, 0, 0, 0.15);\n",
              "      filter: drop-shadow(0px 1px 2px rgba(0, 0, 0, 0.3));\n",
              "      fill: #FFFFFF;\n",
              "    }\n",
              "  </style>\n",
              "\n",
              "      <script>\n",
              "        const buttonEl =\n",
              "          document.querySelector('#df-8392ab6c-978c-46d8-8786-000044aaf43c button.colab-df-convert');\n",
              "        buttonEl.style.display =\n",
              "          google.colab.kernel.accessAllowed ? 'block' : 'none';\n",
              "\n",
              "        async function convertToInteractive(key) {\n",
              "          const element = document.querySelector('#df-8392ab6c-978c-46d8-8786-000044aaf43c');\n",
              "          const dataTable =\n",
              "            await google.colab.kernel.invokeFunction('convertToInteractive',\n",
              "                                                     [key], {});\n",
              "          if (!dataTable) return;\n",
              "\n",
              "          const docLinkHtml = 'Like what you see? Visit the ' +\n",
              "            '<a target=\"_blank\" href=https://colab.research.google.com/notebooks/data_table.ipynb>data table notebook</a>'\n",
              "            + ' to learn more about interactive tables.';\n",
              "          element.innerHTML = '';\n",
              "          dataTable['output_type'] = 'display_data';\n",
              "          await google.colab.output.renderOutput(dataTable, element);\n",
              "          const docLink = document.createElement('div');\n",
              "          docLink.innerHTML = docLinkHtml;\n",
              "          element.appendChild(docLink);\n",
              "        }\n",
              "      </script>\n",
              "    </div>\n",
              "  </div>\n",
              "  "
            ],
            "text/plain": [
              "Empty DataFrame\n",
              "Columns: [Offer Accepted, Reward, Mailer Type, Income Level, # Bank Accounts Open, Overdraft Protection, Credit Rating, # Credit Cards Held, # Homes Owned, Household Size, Own Your Home, Average Balance]\n",
              "Index: []"
            ]
          },
          "execution_count": 41,
          "metadata": {},
          "output_type": "execute_result"
        }
      ],
      "source": [
        "data.drop_duplicates(keep=\"first\", inplace=True)\n",
        "data[data.duplicated()]"
      ]
    },
    {
      "cell_type": "markdown",
      "metadata": {
        "id": "8gbJAw4RmGmf"
      },
      "source": [
        "# Handling Outlier"
      ]
    },
    {
      "cell_type": "code",
      "execution_count": null,
      "metadata": {
        "colab": {
          "base_uri": "https://localhost:8080/"
        },
        "id": "KD79vrba0KMU",
        "outputId": "7397c20e-12b7-44f8-aaa4-e464a69f699d"
      },
      "outputs": [
        {
          "data": {
            "text/html": [
              "\n",
              "  <div id=\"df-6e40c24b-05b8-4cd4-b06a-7c29e8da7667\">\n",
              "    <div class=\"colab-df-container\">\n",
              "      <div>\n",
              "<style scoped>\n",
              "    .dataframe tbody tr th:only-of-type {\n",
              "        vertical-align: middle;\n",
              "    }\n",
              "\n",
              "    .dataframe tbody tr th {\n",
              "        vertical-align: top;\n",
              "    }\n",
              "\n",
              "    .dataframe thead th {\n",
              "        text-align: right;\n",
              "    }\n",
              "</style>\n",
              "<table border=\"1\" class=\"dataframe\">\n",
              "  <thead>\n",
              "    <tr style=\"text-align: right;\">\n",
              "      <th></th>\n",
              "      <th>Offer Accepted</th>\n",
              "      <th>Reward</th>\n",
              "      <th>Mailer Type</th>\n",
              "      <th>Income Level</th>\n",
              "      <th># Bank Accounts Open</th>\n",
              "      <th>Overdraft Protection</th>\n",
              "      <th>Credit Rating</th>\n",
              "      <th># Credit Cards Held</th>\n",
              "      <th># Homes Owned</th>\n",
              "      <th>Household Size</th>\n",
              "      <th>Own Your Home</th>\n",
              "      <th>Average Balance</th>\n",
              "    </tr>\n",
              "  </thead>\n",
              "  <tbody>\n",
              "    <tr>\n",
              "      <th>0</th>\n",
              "      <td>0</td>\n",
              "      <td>Air Miles</td>\n",
              "      <td>Letter</td>\n",
              "      <td>High</td>\n",
              "      <td>1</td>\n",
              "      <td>No</td>\n",
              "      <td>High</td>\n",
              "      <td>2</td>\n",
              "      <td>1</td>\n",
              "      <td>4</td>\n",
              "      <td>No</td>\n",
              "      <td>1160.75</td>\n",
              "    </tr>\n",
              "    <tr>\n",
              "      <th>1</th>\n",
              "      <td>0</td>\n",
              "      <td>Air Miles</td>\n",
              "      <td>Letter</td>\n",
              "      <td>Medium</td>\n",
              "      <td>1</td>\n",
              "      <td>No</td>\n",
              "      <td>Medium</td>\n",
              "      <td>2</td>\n",
              "      <td>2</td>\n",
              "      <td>5</td>\n",
              "      <td>Yes</td>\n",
              "      <td>605.25</td>\n",
              "    </tr>\n",
              "    <tr>\n",
              "      <th>2</th>\n",
              "      <td>0</td>\n",
              "      <td>Air Miles</td>\n",
              "      <td>Postcard</td>\n",
              "      <td>High</td>\n",
              "      <td>2</td>\n",
              "      <td>No</td>\n",
              "      <td>Medium</td>\n",
              "      <td>2</td>\n",
              "      <td>1</td>\n",
              "      <td>2</td>\n",
              "      <td>Yes</td>\n",
              "      <td>605.25</td>\n",
              "    </tr>\n",
              "  </tbody>\n",
              "</table>\n",
              "</div>\n",
              "      <button class=\"colab-df-convert\" onclick=\"convertToInteractive('df-6e40c24b-05b8-4cd4-b06a-7c29e8da7667')\"\n",
              "              title=\"Convert this dataframe to an interactive table.\"\n",
              "              style=\"display:none;\">\n",
              "        \n",
              "  <svg xmlns=\"http://www.w3.org/2000/svg\" height=\"24px\"viewBox=\"0 0 24 24\"\n",
              "       width=\"24px\">\n",
              "    <path d=\"M0 0h24v24H0V0z\" fill=\"none\"/>\n",
              "    <path d=\"M18.56 5.44l.94 2.06.94-2.06 2.06-.94-2.06-.94-.94-2.06-.94 2.06-2.06.94zm-11 1L8.5 8.5l.94-2.06 2.06-.94-2.06-.94L8.5 2.5l-.94 2.06-2.06.94zm10 10l.94 2.06.94-2.06 2.06-.94-2.06-.94-.94-2.06-.94 2.06-2.06.94z\"/><path d=\"M17.41 7.96l-1.37-1.37c-.4-.4-.92-.59-1.43-.59-.52 0-1.04.2-1.43.59L10.3 9.45l-7.72 7.72c-.78.78-.78 2.05 0 2.83L4 21.41c.39.39.9.59 1.41.59.51 0 1.02-.2 1.41-.59l7.78-7.78 2.81-2.81c.8-.78.8-2.07 0-2.86zM5.41 20L4 18.59l7.72-7.72 1.47 1.35L5.41 20z\"/>\n",
              "  </svg>\n",
              "      </button>\n",
              "      \n",
              "  <style>\n",
              "    .colab-df-container {\n",
              "      display:flex;\n",
              "      flex-wrap:wrap;\n",
              "      gap: 12px;\n",
              "    }\n",
              "\n",
              "    .colab-df-convert {\n",
              "      background-color: #E8F0FE;\n",
              "      border: none;\n",
              "      border-radius: 50%;\n",
              "      cursor: pointer;\n",
              "      display: none;\n",
              "      fill: #1967D2;\n",
              "      height: 32px;\n",
              "      padding: 0 0 0 0;\n",
              "      width: 32px;\n",
              "    }\n",
              "\n",
              "    .colab-df-convert:hover {\n",
              "      background-color: #E2EBFA;\n",
              "      box-shadow: 0px 1px 2px rgba(60, 64, 67, 0.3), 0px 1px 3px 1px rgba(60, 64, 67, 0.15);\n",
              "      fill: #174EA6;\n",
              "    }\n",
              "\n",
              "    [theme=dark] .colab-df-convert {\n",
              "      background-color: #3B4455;\n",
              "      fill: #D2E3FC;\n",
              "    }\n",
              "\n",
              "    [theme=dark] .colab-df-convert:hover {\n",
              "      background-color: #434B5C;\n",
              "      box-shadow: 0px 1px 3px 1px rgba(0, 0, 0, 0.15);\n",
              "      filter: drop-shadow(0px 1px 2px rgba(0, 0, 0, 0.3));\n",
              "      fill: #FFFFFF;\n",
              "    }\n",
              "  </style>\n",
              "\n",
              "      <script>\n",
              "        const buttonEl =\n",
              "          document.querySelector('#df-6e40c24b-05b8-4cd4-b06a-7c29e8da7667 button.colab-df-convert');\n",
              "        buttonEl.style.display =\n",
              "          google.colab.kernel.accessAllowed ? 'block' : 'none';\n",
              "\n",
              "        async function convertToInteractive(key) {\n",
              "          const element = document.querySelector('#df-6e40c24b-05b8-4cd4-b06a-7c29e8da7667');\n",
              "          const dataTable =\n",
              "            await google.colab.kernel.invokeFunction('convertToInteractive',\n",
              "                                                     [key], {});\n",
              "          if (!dataTable) return;\n",
              "\n",
              "          const docLinkHtml = 'Like what you see? Visit the ' +\n",
              "            '<a target=\"_blank\" href=https://colab.research.google.com/notebooks/data_table.ipynb>data table notebook</a>'\n",
              "            + ' to learn more about interactive tables.';\n",
              "          element.innerHTML = '';\n",
              "          dataTable['output_type'] = 'display_data';\n",
              "          await google.colab.output.renderOutput(dataTable, element);\n",
              "          const docLink = document.createElement('div');\n",
              "          docLink.innerHTML = docLinkHtml;\n",
              "          element.appendChild(docLink);\n",
              "        }\n",
              "      </script>\n",
              "    </div>\n",
              "  </div>\n",
              "  "
            ],
            "text/plain": [
              "   Offer Accepted     Reward Mailer Type Income Level  # Bank Accounts Open  \\\n",
              "0               0  Air Miles      Letter         High                     1   \n",
              "1               0  Air Miles      Letter       Medium                     1   \n",
              "2               0  Air Miles    Postcard         High                     2   \n",
              "\n",
              "  Overdraft Protection Credit Rating  # Credit Cards Held  # Homes Owned  \\\n",
              "0                   No          High                    2              1   \n",
              "1                   No        Medium                    2              2   \n",
              "2                   No        Medium                    2              1   \n",
              "\n",
              "   Household Size Own Your Home  Average Balance  \n",
              "0               4            No          1160.75  \n",
              "1               5           Yes           605.25  \n",
              "2               2           Yes           605.25  "
            ]
          },
          "execution_count": 42,
          "metadata": {},
          "output_type": "execute_result"
        }
      ],
      "source": [
        "q1 = data['Average Balance'].quantile(.25)\n",
        "q3 = data['Average Balance'].quantile(.75)\n",
        "iqr = q3-q1\n",
        "\n",
        "data['Average Balance'] = data['Average Balance'].mask(((data['Average Balance'] < (q3-(1.5*iqr)))), (q3-(1.5*iqr)))\n",
        "data['Average Balance'] = data['Average Balance'].mask(((data['Average Balance'] > (q3+(1.5*iqr)))), (q3+(1.5*iqr)))\n",
        "data.head(3)"
      ]
    },
    {
      "cell_type": "code",
      "execution_count": null,
      "metadata": {
        "colab": {
          "base_uri": "https://localhost:8080/"
        },
        "id": "D7XyBtlL0U1f",
        "outputId": "e495cea4-4055-4799-a7f8-8c1f601bee87"
      },
      "outputs": [
        {
          "data": {
            "text/plain": [
              "<matplotlib.axes._subplots.AxesSubplot at 0x7fbeafc4c590>"
            ]
          },
          "execution_count": 43,
          "metadata": {},
          "output_type": "execute_result"
        },
        {
          "data": {
            "image/png": "[encoded data removed]",
            "text/plain": [
              "<Figure size 576x432 with 1 Axes>"
            ]
          },
          "metadata": {},
          "output_type": "display_data"
        }
      ],
      "source": [
        "plt.figure(figsize=(8,6))\n",
        "sns.boxplot(x=data['Average Balance'])"
      ]
    },
    {
      "cell_type": "markdown",
      "metadata": {
        "id": "Yw44zPjymKgu"
      },
      "source": [
        "# Feature encoding"
      ]
    },
    {
      "cell_type": "code",
      "execution_count": null,
      "metadata": {
        "colab": {
          "base_uri": "https://localhost:8080/"
        },
        "id": "i-V2SVTy0j-M",
        "outputId": "fc8c9399-daa1-400b-cdd5-dcbf53bd5211"
      },
      "outputs": [
        {
          "name": "stdout",
          "output_type": "stream",
          "text": [
            "<class 'pandas.core.frame.DataFrame'>\n",
            "Int64Index: 17986 entries, 0 to 17999\n",
            "Data columns (total 17 columns):\n",
            " #   Column                Non-Null Count  Dtype  \n",
            "---  ------                --------------  -----  \n",
            " 0   Offer Accepted        17986 non-null  int64  \n",
            " 1   Reward                17986 non-null  object \n",
            " 2   Mailer Type           17986 non-null  object \n",
            " 3   Income Level          17986 non-null  object \n",
            " 4   # Bank Accounts Open  17986 non-null  int64  \n",
            " 5   Overdraft Protection  17986 non-null  object \n",
            " 6   Credit Rating         17986 non-null  object \n",
            " 7   # Credit Cards Held   17986 non-null  int64  \n",
            " 8   # Homes Owned         17986 non-null  int64  \n",
            " 9   Household Size        17986 non-null  int64  \n",
            " 10  Own Your Home         17986 non-null  object \n",
            " 11  Average Balance       17986 non-null  float64\n",
            " 12  Air Miles             17986 non-null  uint8  \n",
            " 13  Cash Back             17986 non-null  uint8  \n",
            " 14  Points                17986 non-null  uint8  \n",
            " 15  Letter                17986 non-null  uint8  \n",
            " 16  Postcard              17986 non-null  uint8  \n",
            "dtypes: float64(1), int64(5), object(6), uint8(5)\n",
            "memory usage: 1.9+ MB\n"
          ]
        }
      ],
      "source": [
        "#nominal data encoding\n",
        "nominal_encode_list = ['Reward', 'Mailer Type']\n",
        "\n",
        "for x in nominal_encode_list:\n",
        "  encoded_columns = pd.get_dummies(data[x])\n",
        "  data = pd.concat([data,encoded_columns], axis=1)\n",
        "\n",
        "data.info()"
      ]
    },
    {
      "cell_type": "code",
      "execution_count": null,
      "metadata": {
        "colab": {
          "base_uri": "https://localhost:8080/"
        },
        "id": "5xFzom-PpiZz",
        "outputId": "2037db9a-d682-4c29-f344-bdeecad2bf01"
      },
      "outputs": [
        {
          "name": "stdout",
          "output_type": "stream",
          "text": [
            "<class 'pandas.core.frame.DataFrame'>\n",
            "Int64Index: 17986 entries, 0 to 17999\n",
            "Data columns (total 21 columns):\n",
            " #   Column                       Non-Null Count  Dtype  \n",
            "---  ------                       --------------  -----  \n",
            " 0   Offer Accepted               17986 non-null  int64  \n",
            " 1   Reward                       17986 non-null  object \n",
            " 2   Mailer Type                  17986 non-null  object \n",
            " 3   Income Level                 17986 non-null  object \n",
            " 4   # Bank Accounts Open         17986 non-null  int64  \n",
            " 5   Overdraft Protection         17986 non-null  object \n",
            " 6   Credit Rating                17986 non-null  object \n",
            " 7   # Credit Cards Held          17986 non-null  int64  \n",
            " 8   # Homes Owned                17986 non-null  int64  \n",
            " 9   Household Size               17986 non-null  int64  \n",
            " 10  Own Your Home                17986 non-null  object \n",
            " 11  Average Balance              17986 non-null  float64\n",
            " 12  Air Miles                    17986 non-null  uint8  \n",
            " 13  Cash Back                    17986 non-null  uint8  \n",
            " 14  Points                       17986 non-null  uint8  \n",
            " 15  Letter                       17986 non-null  uint8  \n",
            " 16  Postcard                     17986 non-null  uint8  \n",
            " 17  Income Level_encode          17986 non-null  float64\n",
            " 18  Overdraft Protection_encode  17986 non-null  float64\n",
            " 19  Credit Rating_encode         17986 non-null  float64\n",
            " 20  Own Your Home_encode         17986 non-null  float64\n",
            "dtypes: float64(5), int64(5), object(6), uint8(5)\n",
            "memory usage: 2.4+ MB\n"
          ]
        }
      ],
      "source": [
        "#Label encoder\n",
        "hot_encoder_list = ['Income Level', 'Overdraft Protection', 'Credit Rating', 'Own Your Home']\n",
        "\n",
        "for x in hot_encoder_list:\n",
        "  ordinal_encoder = OrdinalEncoder( categories=[list(data[x].unique())] )\n",
        "\n",
        "  #ubah dulu sebagai array\n",
        "  y = np.array(data[x]).reshape(-1,1)\n",
        "  ordinal_encoder.fit(y)\n",
        "  data[f'{x}_encode'] = ordinal_encoder.transform(y)\n",
        "\n",
        "data.info()"
      ]
    },
    {
      "cell_type": "code",
      "execution_count": null,
      "metadata": {
        "colab": {
          "base_uri": "https://localhost:8080/",
          "height": 341
        },
        "id": "TD1tFREq4u4x",
        "outputId": "36310ded-0ffe-4a0e-dc32-b361931426a4"
      },
      "outputs": [
        {
          "data": {
            "text/html": [
              "\n",
              "  <div id=\"df-f877619f-d281-4609-a5f8-239e979b5ede\">\n",
              "    <div class=\"colab-df-container\">\n",
              "      <div>\n",
              "<style scoped>\n",
              "    .dataframe tbody tr th:only-of-type {\n",
              "        vertical-align: middle;\n",
              "    }\n",
              "\n",
              "    .dataframe tbody tr th {\n",
              "        vertical-align: top;\n",
              "    }\n",
              "\n",
              "    .dataframe thead th {\n",
              "        text-align: right;\n",
              "    }\n",
              "</style>\n",
              "<table border=\"1\" class=\"dataframe\">\n",
              "  <thead>\n",
              "    <tr style=\"text-align: right;\">\n",
              "      <th></th>\n",
              "      <th>Offer Accepted</th>\n",
              "      <th>Reward</th>\n",
              "      <th>Mailer Type</th>\n",
              "      <th>Income Level</th>\n",
              "      <th># Bank Accounts Open</th>\n",
              "      <th>Overdraft Protection</th>\n",
              "      <th>Credit Rating</th>\n",
              "      <th># Credit Cards Held</th>\n",
              "      <th># Homes Owned</th>\n",
              "      <th>Household Size</th>\n",
              "      <th>...</th>\n",
              "      <th>Average Balance</th>\n",
              "      <th>Air Miles</th>\n",
              "      <th>Cash Back</th>\n",
              "      <th>Points</th>\n",
              "      <th>Letter</th>\n",
              "      <th>Postcard</th>\n",
              "      <th>Income Level_encode</th>\n",
              "      <th>Overdraft Protection_encode</th>\n",
              "      <th>Credit Rating_encode</th>\n",
              "      <th>Own Your Home_encode</th>\n",
              "    </tr>\n",
              "  </thead>\n",
              "  <tbody>\n",
              "    <tr>\n",
              "      <th>0</th>\n",
              "      <td>0</td>\n",
              "      <td>Air Miles</td>\n",
              "      <td>Letter</td>\n",
              "      <td>High</td>\n",
              "      <td>1</td>\n",
              "      <td>No</td>\n",
              "      <td>High</td>\n",
              "      <td>2</td>\n",
              "      <td>1</td>\n",
              "      <td>4</td>\n",
              "      <td>...</td>\n",
              "      <td>1160.75</td>\n",
              "      <td>1</td>\n",
              "      <td>0</td>\n",
              "      <td>0</td>\n",
              "      <td>1</td>\n",
              "      <td>0</td>\n",
              "      <td>0.0</td>\n",
              "      <td>0.0</td>\n",
              "      <td>0.0</td>\n",
              "      <td>0.0</td>\n",
              "    </tr>\n",
              "    <tr>\n",
              "      <th>1</th>\n",
              "      <td>0</td>\n",
              "      <td>Air Miles</td>\n",
              "      <td>Letter</td>\n",
              "      <td>Medium</td>\n",
              "      <td>1</td>\n",
              "      <td>No</td>\n",
              "      <td>Medium</td>\n",
              "      <td>2</td>\n",
              "      <td>2</td>\n",
              "      <td>5</td>\n",
              "      <td>...</td>\n",
              "      <td>605.25</td>\n",
              "      <td>1</td>\n",
              "      <td>0</td>\n",
              "      <td>0</td>\n",
              "      <td>1</td>\n",
              "      <td>0</td>\n",
              "      <td>1.0</td>\n",
              "      <td>0.0</td>\n",
              "      <td>1.0</td>\n",
              "      <td>1.0</td>\n",
              "    </tr>\n",
              "    <tr>\n",
              "      <th>2</th>\n",
              "      <td>0</td>\n",
              "      <td>Air Miles</td>\n",
              "      <td>Postcard</td>\n",
              "      <td>High</td>\n",
              "      <td>2</td>\n",
              "      <td>No</td>\n",
              "      <td>Medium</td>\n",
              "      <td>2</td>\n",
              "      <td>1</td>\n",
              "      <td>2</td>\n",
              "      <td>...</td>\n",
              "      <td>605.25</td>\n",
              "      <td>1</td>\n",
              "      <td>0</td>\n",
              "      <td>0</td>\n",
              "      <td>0</td>\n",
              "      <td>1</td>\n",
              "      <td>0.0</td>\n",
              "      <td>0.0</td>\n",
              "      <td>1.0</td>\n",
              "      <td>1.0</td>\n",
              "    </tr>\n",
              "  </tbody>\n",
              "</table>\n",
              "<p>3 rows × 21 columns</p>\n",
              "</div>\n",
              "      <button class=\"colab-df-convert\" onclick=\"convertToInteractive('df-f877619f-d281-4609-a5f8-239e979b5ede')\"\n",
              "              title=\"Convert this dataframe to an interactive table.\"\n",
              "              style=\"display:none;\">\n",
              "        \n",
              "  <svg xmlns=\"http://www.w3.org/2000/svg\" height=\"24px\"viewBox=\"0 0 24 24\"\n",
              "       width=\"24px\">\n",
              "    <path d=\"M0 0h24v24H0V0z\" fill=\"none\"/>\n",
              "    <path d=\"M18.56 5.44l.94 2.06.94-2.06 2.06-.94-2.06-.94-.94-2.06-.94 2.06-2.06.94zm-11 1L8.5 8.5l.94-2.06 2.06-.94-2.06-.94L8.5 2.5l-.94 2.06-2.06.94zm10 10l.94 2.06.94-2.06 2.06-.94-2.06-.94-.94-2.06-.94 2.06-2.06.94z\"/><path d=\"M17.41 7.96l-1.37-1.37c-.4-.4-.92-.59-1.43-.59-.52 0-1.04.2-1.43.59L10.3 9.45l-7.72 7.72c-.78.78-.78 2.05 0 2.83L4 21.41c.39.39.9.59 1.41.59.51 0 1.02-.2 1.41-.59l7.78-7.78 2.81-2.81c.8-.78.8-2.07 0-2.86zM5.41 20L4 18.59l7.72-7.72 1.47 1.35L5.41 20z\"/>\n",
              "  </svg>\n",
              "      </button>\n",
              "      \n",
              "  <style>\n",
              "    .colab-df-container {\n",
              "      display:flex;\n",
              "      flex-wrap:wrap;\n",
              "      gap: 12px;\n",
              "    }\n",
              "\n",
              "    .colab-df-convert {\n",
              "      background-color: #E8F0FE;\n",
              "      border: none;\n",
              "      border-radius: 50%;\n",
              "      cursor: pointer;\n",
              "      display: none;\n",
              "      fill: #1967D2;\n",
              "      height: 32px;\n",
              "      padding: 0 0 0 0;\n",
              "      width: 32px;\n",
              "    }\n",
              "\n",
              "    .colab-df-convert:hover {\n",
              "      background-color: #E2EBFA;\n",
              "      box-shadow: 0px 1px 2px rgba(60, 64, 67, 0.3), 0px 1px 3px 1px rgba(60, 64, 67, 0.15);\n",
              "      fill: #174EA6;\n",
              "    }\n",
              "\n",
              "    [theme=dark] .colab-df-convert {\n",
              "      background-color: #3B4455;\n",
              "      fill: #D2E3FC;\n",
              "    }\n",
              "\n",
              "    [theme=dark] .colab-df-convert:hover {\n",
              "      background-color: #434B5C;\n",
              "      box-shadow: 0px 1px 3px 1px rgba(0, 0, 0, 0.15);\n",
              "      filter: drop-shadow(0px 1px 2px rgba(0, 0, 0, 0.3));\n",
              "      fill: #FFFFFF;\n",
              "    }\n",
              "  </style>\n",
              "\n",
              "      <script>\n",
              "        const buttonEl =\n",
              "          document.querySelector('#df-f877619f-d281-4609-a5f8-239e979b5ede button.colab-df-convert');\n",
              "        buttonEl.style.display =\n",
              "          google.colab.kernel.accessAllowed ? 'block' : 'none';\n",
              "\n",
              "        async function convertToInteractive(key) {\n",
              "          const element = document.querySelector('#df-f877619f-d281-4609-a5f8-239e979b5ede');\n",
              "          const dataTable =\n",
              "            await google.colab.kernel.invokeFunction('convertToInteractive',\n",
              "                                                     [key], {});\n",
              "          if (!dataTable) return;\n",
              "\n",
              "          const docLinkHtml = 'Like what you see? Visit the ' +\n",
              "            '<a target=\"_blank\" href=https://colab.research.google.com/notebooks/data_table.ipynb>data table notebook</a>'\n",
              "            + ' to learn more about interactive tables.';\n",
              "          element.innerHTML = '';\n",
              "          dataTable['output_type'] = 'display_data';\n",
              "          await google.colab.output.renderOutput(dataTable, element);\n",
              "          const docLink = document.createElement('div');\n",
              "          docLink.innerHTML = docLinkHtml;\n",
              "          element.appendChild(docLink);\n",
              "        }\n",
              "      </script>\n",
              "    </div>\n",
              "  </div>\n",
              "  "
            ],
            "text/plain": [
              "   Offer Accepted     Reward Mailer Type Income Level  # Bank Accounts Open  \\\n",
              "0               0  Air Miles      Letter         High                     1   \n",
              "1               0  Air Miles      Letter       Medium                     1   \n",
              "2               0  Air Miles    Postcard         High                     2   \n",
              "\n",
              "  Overdraft Protection Credit Rating  # Credit Cards Held  # Homes Owned  \\\n",
              "0                   No          High                    2              1   \n",
              "1                   No        Medium                    2              2   \n",
              "2                   No        Medium                    2              1   \n",
              "\n",
              "   Household Size  ... Average Balance  Air Miles  Cash Back  Points  Letter  \\\n",
              "0               4  ...         1160.75          1          0       0       1   \n",
              "1               5  ...          605.25          1          0       0       1   \n",
              "2               2  ...          605.25          1          0       0       0   \n",
              "\n",
              "   Postcard  Income Level_encode  Overdraft Protection_encode  \\\n",
              "0         0                  0.0                          0.0   \n",
              "1         0                  1.0                          0.0   \n",
              "2         1                  0.0                          0.0   \n",
              "\n",
              "   Credit Rating_encode  Own Your Home_encode  \n",
              "0                   0.0                   0.0  \n",
              "1                   1.0                   1.0  \n",
              "2                   1.0                   1.0  \n",
              "\n",
              "[3 rows x 21 columns]"
            ]
          },
          "execution_count": 46,
          "metadata": {},
          "output_type": "execute_result"
        }
      ],
      "source": [
        "data.head(3)"
      ]
    },
    {
      "cell_type": "markdown",
      "metadata": {
        "id": "1CXkBIwyyjoY"
      },
      "source": [
        "#**Modeling**"
      ]
    },
    {
      "cell_type": "markdown",
      "metadata": {
        "id": "0MJ1RO5LysNO"
      },
      "source": [
        "drop unused column"
      ]
    },
    {
      "cell_type": "code",
      "execution_count": null,
      "metadata": {
        "id": "lxTYVwlV5X3_"
      },
      "outputs": [],
      "source": [
        "X = data.drop(['Offer Accepted','Reward', 'Mailer Type', 'Income Level', 'Overdraft Protection', 'Credit Rating', 'Own Your Home'], axis=1)\n",
        "y = data['Offer Accepted']"
      ]
    },
    {
      "cell_type": "markdown",
      "metadata": {
        "id": "Tp8Z2_I5ynrN"
      },
      "source": [
        "oversampling imbalance data"
      ]
    },
    {
      "cell_type": "code",
      "execution_count": null,
      "metadata": {
        "id": "PLuSWUWb7ujs"
      },
      "outputs": [],
      "source": [
        "OS_SMOTE = SMOTE()\n",
        "X, y  = OS_SMOTE.fit_resample(X, y)"
      ]
    },
    {
      "cell_type": "code",
      "execution_count": null,
      "metadata": {
        "colab": {
          "base_uri": "https://localhost:8080/",
          "height": 357
        },
        "id": "RQv5G9o4C7Po",
        "outputId": "87158547-624d-45c9-f524-a4906c702e32"
      },
      "outputs": [
        {
          "data": {
            "text/plain": [
              "<matplotlib.axes._subplots.AxesSubplot at 0x7fbeaf85f210>"
            ]
          },
          "execution_count": 87,
          "metadata": {},
          "output_type": "execute_result"
        },
        {
          "data": {
            "image/png": "[encoded data removed]",
            "text/plain": [
              "<Figure size 1080x360 with 2 Axes>"
            ]
          },
          "metadata": {},
          "output_type": "display_data"
        }
      ],
      "source": [
        "fig, ax =plt.subplots(1,2, figsize=(15,5))\n",
        "sns.countplot(x=data['Offer Accepted'], ax=ax[0])\n",
        "sns.countplot(x=y, ax=ax[1])"
      ]
    },
    {
      "cell_type": "markdown",
      "metadata": {
        "id": "bIOOn6TsyzPG"
      },
      "source": [
        "scaling"
      ]
    },
    {
      "cell_type": "code",
      "execution_count": null,
      "metadata": {
        "id": "aOq1lJA8maUo"
      },
      "outputs": [],
      "source": [
        "# Object Scaling / Normalisasi hanya di fit ke data training\n",
        "\n",
        "scaler = MinMaxScaler()\n",
        "columns = list(X.columns)\n",
        "scaler.fit(X[columns])\n",
        "\n",
        "X_scaled = scaler.transform(X)\n",
        "\n",
        "# jika ingin tetap dalam bentuk dataframe, nilai hasil scaling dapat di assign ke kolom awal\n",
        "X[columns] = X_scaled"
      ]
    },
    {
      "cell_type": "code",
      "execution_count": null,
      "metadata": {
        "colab": {
          "base_uri": "https://localhost:8080/",
          "height": 222
        },
        "id": "7DpvnySvm4DE",
        "outputId": "982d00d3-3632-48e4-d89a-bb985fc40ab6"
      },
      "outputs": [
        {
          "data": {
            "text/html": [
              "\n",
              "  <div id=\"df-7875d5af-ed47-440b-b7ac-6a8e0894e123\">\n",
              "    <div class=\"colab-df-container\">\n",
              "      <div>\n",
              "<style scoped>\n",
              "    .dataframe tbody tr th:only-of-type {\n",
              "        vertical-align: middle;\n",
              "    }\n",
              "\n",
              "    .dataframe tbody tr th {\n",
              "        vertical-align: top;\n",
              "    }\n",
              "\n",
              "    .dataframe thead th {\n",
              "        text-align: right;\n",
              "    }\n",
              "</style>\n",
              "<table border=\"1\" class=\"dataframe\">\n",
              "  <thead>\n",
              "    <tr style=\"text-align: right;\">\n",
              "      <th></th>\n",
              "      <th># Bank Accounts Open</th>\n",
              "      <th># Credit Cards Held</th>\n",
              "      <th># Homes Owned</th>\n",
              "      <th>Household Size</th>\n",
              "      <th>Average Balance</th>\n",
              "      <th>Air Miles</th>\n",
              "      <th>Cash Back</th>\n",
              "      <th>Points</th>\n",
              "      <th>Letter</th>\n",
              "      <th>Postcard</th>\n",
              "      <th>Income Level_encode</th>\n",
              "      <th>Overdraft Protection_encode</th>\n",
              "      <th>Credit Rating_encode</th>\n",
              "      <th>Own Your Home_encode</th>\n",
              "    </tr>\n",
              "  </thead>\n",
              "  <tbody>\n",
              "    <tr>\n",
              "      <th>0</th>\n",
              "      <td>0.0</td>\n",
              "      <td>0.333333</td>\n",
              "      <td>0.0</td>\n",
              "      <td>0.375</td>\n",
              "      <td>0.507306</td>\n",
              "      <td>1.0</td>\n",
              "      <td>0.0</td>\n",
              "      <td>0.0</td>\n",
              "      <td>1.0</td>\n",
              "      <td>0.0</td>\n",
              "      <td>0.0</td>\n",
              "      <td>0.0</td>\n",
              "      <td>0.0</td>\n",
              "      <td>0.0</td>\n",
              "    </tr>\n",
              "    <tr>\n",
              "      <th>1</th>\n",
              "      <td>0.0</td>\n",
              "      <td>0.333333</td>\n",
              "      <td>0.5</td>\n",
              "      <td>0.500</td>\n",
              "      <td>0.000000</td>\n",
              "      <td>1.0</td>\n",
              "      <td>0.0</td>\n",
              "      <td>0.0</td>\n",
              "      <td>1.0</td>\n",
              "      <td>0.0</td>\n",
              "      <td>0.5</td>\n",
              "      <td>0.0</td>\n",
              "      <td>0.5</td>\n",
              "      <td>1.0</td>\n",
              "    </tr>\n",
              "    <tr>\n",
              "      <th>2</th>\n",
              "      <td>0.5</td>\n",
              "      <td>0.333333</td>\n",
              "      <td>0.0</td>\n",
              "      <td>0.125</td>\n",
              "      <td>0.000000</td>\n",
              "      <td>1.0</td>\n",
              "      <td>0.0</td>\n",
              "      <td>0.0</td>\n",
              "      <td>0.0</td>\n",
              "      <td>1.0</td>\n",
              "      <td>0.0</td>\n",
              "      <td>0.0</td>\n",
              "      <td>0.5</td>\n",
              "      <td>1.0</td>\n",
              "    </tr>\n",
              "  </tbody>\n",
              "</table>\n",
              "</div>\n",
              "      <button class=\"colab-df-convert\" onclick=\"convertToInteractive('df-7875d5af-ed47-440b-b7ac-6a8e0894e123')\"\n",
              "              title=\"Convert this dataframe to an interactive table.\"\n",
              "              style=\"display:none;\">\n",
              "        \n",
              "  <svg xmlns=\"http://www.w3.org/2000/svg\" height=\"24px\"viewBox=\"0 0 24 24\"\n",
              "       width=\"24px\">\n",
              "    <path d=\"M0 0h24v24H0V0z\" fill=\"none\"/>\n",
              "    <path d=\"M18.56 5.44l.94 2.06.94-2.06 2.06-.94-2.06-.94-.94-2.06-.94 2.06-2.06.94zm-11 1L8.5 8.5l.94-2.06 2.06-.94-2.06-.94L8.5 2.5l-.94 2.06-2.06.94zm10 10l.94 2.06.94-2.06 2.06-.94-2.06-.94-.94-2.06-.94 2.06-2.06.94z\"/><path d=\"M17.41 7.96l-1.37-1.37c-.4-.4-.92-.59-1.43-.59-.52 0-1.04.2-1.43.59L10.3 9.45l-7.72 7.72c-.78.78-.78 2.05 0 2.83L4 21.41c.39.39.9.59 1.41.59.51 0 1.02-.2 1.41-.59l7.78-7.78 2.81-2.81c.8-.78.8-2.07 0-2.86zM5.41 20L4 18.59l7.72-7.72 1.47 1.35L5.41 20z\"/>\n",
              "  </svg>\n",
              "      </button>\n",
              "      \n",
              "  <style>\n",
              "    .colab-df-container {\n",
              "      display:flex;\n",
              "      flex-wrap:wrap;\n",
              "      gap: 12px;\n",
              "    }\n",
              "\n",
              "    .colab-df-convert {\n",
              "      background-color: #E8F0FE;\n",
              "      border: none;\n",
              "      border-radius: 50%;\n",
              "      cursor: pointer;\n",
              "      display: none;\n",
              "      fill: #1967D2;\n",
              "      height: 32px;\n",
              "      padding: 0 0 0 0;\n",
              "      width: 32px;\n",
              "    }\n",
              "\n",
              "    .colab-df-convert:hover {\n",
              "      background-color: #E2EBFA;\n",
              "      box-shadow: 0px 1px 2px rgba(60, 64, 67, 0.3), 0px 1px 3px 1px rgba(60, 64, 67, 0.15);\n",
              "      fill: #174EA6;\n",
              "    }\n",
              "\n",
              "    [theme=dark] .colab-df-convert {\n",
              "      background-color: #3B4455;\n",
              "      fill: #D2E3FC;\n",
              "    }\n",
              "\n",
              "    [theme=dark] .colab-df-convert:hover {\n",
              "      background-color: #434B5C;\n",
              "      box-shadow: 0px 1px 3px 1px rgba(0, 0, 0, 0.15);\n",
              "      filter: drop-shadow(0px 1px 2px rgba(0, 0, 0, 0.3));\n",
              "      fill: #FFFFFF;\n",
              "    }\n",
              "  </style>\n",
              "\n",
              "      <script>\n",
              "        const buttonEl =\n",
              "          document.querySelector('#df-7875d5af-ed47-440b-b7ac-6a8e0894e123 button.colab-df-convert');\n",
              "        buttonEl.style.display =\n",
              "          google.colab.kernel.accessAllowed ? 'block' : 'none';\n",
              "\n",
              "        async function convertToInteractive(key) {\n",
              "          const element = document.querySelector('#df-7875d5af-ed47-440b-b7ac-6a8e0894e123');\n",
              "          const dataTable =\n",
              "            await google.colab.kernel.invokeFunction('convertToInteractive',\n",
              "                                                     [key], {});\n",
              "          if (!dataTable) return;\n",
              "\n",
              "          const docLinkHtml = 'Like what you see? Visit the ' +\n",
              "            '<a target=\"_blank\" href=https://colab.research.google.com/notebooks/data_table.ipynb>data table notebook</a>'\n",
              "            + ' to learn more about interactive tables.';\n",
              "          element.innerHTML = '';\n",
              "          dataTable['output_type'] = 'display_data';\n",
              "          await google.colab.output.renderOutput(dataTable, element);\n",
              "          const docLink = document.createElement('div');\n",
              "          docLink.innerHTML = docLinkHtml;\n",
              "          element.appendChild(docLink);\n",
              "        }\n",
              "      </script>\n",
              "    </div>\n",
              "  </div>\n",
              "  "
            ],
            "text/plain": [
              "   # Bank Accounts Open  # Credit Cards Held  # Homes Owned  Household Size  \\\n",
              "0                   0.0             0.333333            0.0           0.375   \n",
              "1                   0.0             0.333333            0.5           0.500   \n",
              "2                   0.5             0.333333            0.0           0.125   \n",
              "\n",
              "   Average Balance  Air Miles  Cash Back  Points  Letter  Postcard  \\\n",
              "0         0.507306        1.0        0.0     0.0     1.0       0.0   \n",
              "1         0.000000        1.0        0.0     0.0     1.0       0.0   \n",
              "2         0.000000        1.0        0.0     0.0     0.0       1.0   \n",
              "\n",
              "   Income Level_encode  Overdraft Protection_encode  Credit Rating_encode  \\\n",
              "0                  0.0                          0.0                   0.0   \n",
              "1                  0.5                          0.0                   0.5   \n",
              "2                  0.0                          0.0                   0.5   \n",
              "\n",
              "   Own Your Home_encode  \n",
              "0                   0.0  \n",
              "1                   1.0  \n",
              "2                   1.0  "
            ]
          },
          "execution_count": 90,
          "metadata": {},
          "output_type": "execute_result"
        }
      ],
      "source": [
        "X.head(3)"
      ]
    },
    {
      "cell_type": "code",
      "execution_count": null,
      "metadata": {
        "colab": {
          "base_uri": "https://localhost:8080/",
          "height": 399
        },
        "id": "xJ_Hm6RsnDzo",
        "outputId": "9a1fa4da-bf2e-4279-8111-dec6132cdfbb"
      },
      "outputs": [
        {
          "data": {
            "text/html": [
              "\n",
              "  <div id=\"df-8b800346-1d8d-4305-bb7c-fc1613b1e1c3\">\n",
              "    <div class=\"colab-df-container\">\n",
              "      <div>\n",
              "<style scoped>\n",
              "    .dataframe tbody tr th:only-of-type {\n",
              "        vertical-align: middle;\n",
              "    }\n",
              "\n",
              "    .dataframe tbody tr th {\n",
              "        vertical-align: top;\n",
              "    }\n",
              "\n",
              "    .dataframe thead th {\n",
              "        text-align: right;\n",
              "    }\n",
              "</style>\n",
              "<table border=\"1\" class=\"dataframe\">\n",
              "  <thead>\n",
              "    <tr style=\"text-align: right;\">\n",
              "      <th></th>\n",
              "      <th># Bank Accounts Open</th>\n",
              "      <th># Credit Cards Held</th>\n",
              "      <th># Homes Owned</th>\n",
              "      <th>Household Size</th>\n",
              "      <th>Average Balance</th>\n",
              "      <th>Air Miles</th>\n",
              "      <th>Cash Back</th>\n",
              "      <th>Points</th>\n",
              "      <th>Letter</th>\n",
              "      <th>Postcard</th>\n",
              "      <th>Income Level_encode</th>\n",
              "      <th>Overdraft Protection_encode</th>\n",
              "      <th>Credit Rating_encode</th>\n",
              "      <th>Own Your Home_encode</th>\n",
              "    </tr>\n",
              "  </thead>\n",
              "  <tbody>\n",
              "    <tr>\n",
              "      <th>count</th>\n",
              "      <td>33926.000000</td>\n",
              "      <td>33926.000000</td>\n",
              "      <td>33926.000000</td>\n",
              "      <td>33926.000000</td>\n",
              "      <td>33926.000000</td>\n",
              "      <td>33926.000000</td>\n",
              "      <td>33926.000000</td>\n",
              "      <td>33926.000000</td>\n",
              "      <td>33926.000000</td>\n",
              "      <td>33926.000000</td>\n",
              "      <td>33926.000000</td>\n",
              "      <td>33926.000000</td>\n",
              "      <td>33926.000000</td>\n",
              "      <td>33926.000000</td>\n",
              "    </tr>\n",
              "    <tr>\n",
              "      <th>mean</th>\n",
              "      <td>0.084640</td>\n",
              "      <td>0.252854</td>\n",
              "      <td>0.067117</td>\n",
              "      <td>0.290106</td>\n",
              "      <td>0.350421</td>\n",
              "      <td>0.307169</td>\n",
              "      <td>0.205005</td>\n",
              "      <td>0.252166</td>\n",
              "      <td>0.316041</td>\n",
              "      <td>0.530449</td>\n",
              "      <td>0.550734</td>\n",
              "      <td>0.142983</td>\n",
              "      <td>0.622067</td>\n",
              "      <td>0.651593</td>\n",
              "    </tr>\n",
              "    <tr>\n",
              "      <th>std</th>\n",
              "      <td>0.198907</td>\n",
              "      <td>0.249059</td>\n",
              "      <td>0.178273</td>\n",
              "      <td>0.133184</td>\n",
              "      <td>0.230522</td>\n",
              "      <td>0.461327</td>\n",
              "      <td>0.403711</td>\n",
              "      <td>0.434263</td>\n",
              "      <td>0.464936</td>\n",
              "      <td>0.499079</td>\n",
              "      <td>0.331334</td>\n",
              "      <td>0.324028</td>\n",
              "      <td>0.381216</td>\n",
              "      <td>0.441987</td>\n",
              "    </tr>\n",
              "    <tr>\n",
              "      <th>min</th>\n",
              "      <td>0.000000</td>\n",
              "      <td>0.000000</td>\n",
              "      <td>0.000000</td>\n",
              "      <td>0.000000</td>\n",
              "      <td>0.000000</td>\n",
              "      <td>0.000000</td>\n",
              "      <td>0.000000</td>\n",
              "      <td>0.000000</td>\n",
              "      <td>0.000000</td>\n",
              "      <td>0.000000</td>\n",
              "      <td>0.000000</td>\n",
              "      <td>0.000000</td>\n",
              "      <td>0.000000</td>\n",
              "      <td>0.000000</td>\n",
              "    </tr>\n",
              "    <tr>\n",
              "      <th>25%</th>\n",
              "      <td>0.000000</td>\n",
              "      <td>0.000000</td>\n",
              "      <td>0.000000</td>\n",
              "      <td>0.250000</td>\n",
              "      <td>0.169713</td>\n",
              "      <td>0.000000</td>\n",
              "      <td>0.000000</td>\n",
              "      <td>0.000000</td>\n",
              "      <td>0.000000</td>\n",
              "      <td>0.000000</td>\n",
              "      <td>0.500000</td>\n",
              "      <td>0.000000</td>\n",
              "      <td>0.500000</td>\n",
              "      <td>0.000000</td>\n",
              "    </tr>\n",
              "    <tr>\n",
              "      <th>50%</th>\n",
              "      <td>0.000000</td>\n",
              "      <td>0.333333</td>\n",
              "      <td>0.000000</td>\n",
              "      <td>0.250000</td>\n",
              "      <td>0.367123</td>\n",
              "      <td>0.000000</td>\n",
              "      <td>0.000000</td>\n",
              "      <td>0.000000</td>\n",
              "      <td>0.000000</td>\n",
              "      <td>1.000000</td>\n",
              "      <td>0.500000</td>\n",
              "      <td>0.000000</td>\n",
              "      <td>0.633705</td>\n",
              "      <td>1.000000</td>\n",
              "    </tr>\n",
              "    <tr>\n",
              "      <th>75%</th>\n",
              "      <td>0.000000</td>\n",
              "      <td>0.333333</td>\n",
              "      <td>0.000000</td>\n",
              "      <td>0.375000</td>\n",
              "      <td>0.500228</td>\n",
              "      <td>1.000000</td>\n",
              "      <td>0.000000</td>\n",
              "      <td>1.000000</td>\n",
              "      <td>1.000000</td>\n",
              "      <td>1.000000</td>\n",
              "      <td>0.887355</td>\n",
              "      <td>0.000000</td>\n",
              "      <td>1.000000</td>\n",
              "      <td>1.000000</td>\n",
              "    </tr>\n",
              "    <tr>\n",
              "      <th>max</th>\n",
              "      <td>1.000000</td>\n",
              "      <td>1.000000</td>\n",
              "      <td>1.000000</td>\n",
              "      <td>1.000000</td>\n",
              "      <td>1.000000</td>\n",
              "      <td>1.000000</td>\n",
              "      <td>1.000000</td>\n",
              "      <td>1.000000</td>\n",
              "      <td>1.000000</td>\n",
              "      <td>1.000000</td>\n",
              "      <td>1.000000</td>\n",
              "      <td>1.000000</td>\n",
              "      <td>1.000000</td>\n",
              "      <td>1.000000</td>\n",
              "    </tr>\n",
              "  </tbody>\n",
              "</table>\n",
              "</div>\n",
              "      <button class=\"colab-df-convert\" onclick=\"convertToInteractive('df-8b800346-1d8d-4305-bb7c-fc1613b1e1c3')\"\n",
              "              title=\"Convert this dataframe to an interactive table.\"\n",
              "              style=\"display:none;\">\n",
              "        \n",
              "  <svg xmlns=\"http://www.w3.org/2000/svg\" height=\"24px\"viewBox=\"0 0 24 24\"\n",
              "       width=\"24px\">\n",
              "    <path d=\"M0 0h24v24H0V0z\" fill=\"none\"/>\n",
              "    <path d=\"M18.56 5.44l.94 2.06.94-2.06 2.06-.94-2.06-.94-.94-2.06-.94 2.06-2.06.94zm-11 1L8.5 8.5l.94-2.06 2.06-.94-2.06-.94L8.5 2.5l-.94 2.06-2.06.94zm10 10l.94 2.06.94-2.06 2.06-.94-2.06-.94-.94-2.06-.94 2.06-2.06.94z\"/><path d=\"M17.41 7.96l-1.37-1.37c-.4-.4-.92-.59-1.43-.59-.52 0-1.04.2-1.43.59L10.3 9.45l-7.72 7.72c-.78.78-.78 2.05 0 2.83L4 21.41c.39.39.9.59 1.41.59.51 0 1.02-.2 1.41-.59l7.78-7.78 2.81-2.81c.8-.78.8-2.07 0-2.86zM5.41 20L4 18.59l7.72-7.72 1.47 1.35L5.41 20z\"/>\n",
              "  </svg>\n",
              "      </button>\n",
              "      \n",
              "  <style>\n",
              "    .colab-df-container {\n",
              "      display:flex;\n",
              "      flex-wrap:wrap;\n",
              "      gap: 12px;\n",
              "    }\n",
              "\n",
              "    .colab-df-convert {\n",
              "      background-color: #E8F0FE;\n",
              "      border: none;\n",
              "      border-radius: 50%;\n",
              "      cursor: pointer;\n",
              "      display: none;\n",
              "      fill: #1967D2;\n",
              "      height: 32px;\n",
              "      padding: 0 0 0 0;\n",
              "      width: 32px;\n",
              "    }\n",
              "\n",
              "    .colab-df-convert:hover {\n",
              "      background-color: #E2EBFA;\n",
              "      box-shadow: 0px 1px 2px rgba(60, 64, 67, 0.3), 0px 1px 3px 1px rgba(60, 64, 67, 0.15);\n",
              "      fill: #174EA6;\n",
              "    }\n",
              "\n",
              "    [theme=dark] .colab-df-convert {\n",
              "      background-color: #3B4455;\n",
              "      fill: #D2E3FC;\n",
              "    }\n",
              "\n",
              "    [theme=dark] .colab-df-convert:hover {\n",
              "      background-color: #434B5C;\n",
              "      box-shadow: 0px 1px 3px 1px rgba(0, 0, 0, 0.15);\n",
              "      filter: drop-shadow(0px 1px 2px rgba(0, 0, 0, 0.3));\n",
              "      fill: #FFFFFF;\n",
              "    }\n",
              "  </style>\n",
              "\n",
              "      <script>\n",
              "        const buttonEl =\n",
              "          document.querySelector('#df-8b800346-1d8d-4305-bb7c-fc1613b1e1c3 button.colab-df-convert');\n",
              "        buttonEl.style.display =\n",
              "          google.colab.kernel.accessAllowed ? 'block' : 'none';\n",
              "\n",
              "        async function convertToInteractive(key) {\n",
              "          const element = document.querySelector('#df-8b800346-1d8d-4305-bb7c-fc1613b1e1c3');\n",
              "          const dataTable =\n",
              "            await google.colab.kernel.invokeFunction('convertToInteractive',\n",
              "                                                     [key], {});\n",
              "          if (!dataTable) return;\n",
              "\n",
              "          const docLinkHtml = 'Like what you see? Visit the ' +\n",
              "            '<a target=\"_blank\" href=https://colab.research.google.com/notebooks/data_table.ipynb>data table notebook</a>'\n",
              "            + ' to learn more about interactive tables.';\n",
              "          element.innerHTML = '';\n",
              "          dataTable['output_type'] = 'display_data';\n",
              "          await google.colab.output.renderOutput(dataTable, element);\n",
              "          const docLink = document.createElement('div');\n",
              "          docLink.innerHTML = docLinkHtml;\n",
              "          element.appendChild(docLink);\n",
              "        }\n",
              "      </script>\n",
              "    </div>\n",
              "  </div>\n",
              "  "
            ],
            "text/plain": [
              "       # Bank Accounts Open  # Credit Cards Held  # Homes Owned  \\\n",
              "count          33926.000000         33926.000000   33926.000000   \n",
              "mean               0.084640             0.252854       0.067117   \n",
              "std                0.198907             0.249059       0.178273   \n",
              "min                0.000000             0.000000       0.000000   \n",
              "25%                0.000000             0.000000       0.000000   \n",
              "50%                0.000000             0.333333       0.000000   \n",
              "75%                0.000000             0.333333       0.000000   \n",
              "max                1.000000             1.000000       1.000000   \n",
              "\n",
              "       Household Size  Average Balance     Air Miles     Cash Back  \\\n",
              "count    33926.000000     33926.000000  33926.000000  33926.000000   \n",
              "mean         0.290106         0.350421      0.307169      0.205005   \n",
              "std          0.133184         0.230522      0.461327      0.403711   \n",
              "min          0.000000         0.000000      0.000000      0.000000   \n",
              "25%          0.250000         0.169713      0.000000      0.000000   \n",
              "50%          0.250000         0.367123      0.000000      0.000000   \n",
              "75%          0.375000         0.500228      1.000000      0.000000   \n",
              "max          1.000000         1.000000      1.000000      1.000000   \n",
              "\n",
              "             Points        Letter      Postcard  Income Level_encode  \\\n",
              "count  33926.000000  33926.000000  33926.000000         33926.000000   \n",
              "mean       0.252166      0.316041      0.530449             0.550734   \n",
              "std        0.434263      0.464936      0.499079             0.331334   \n",
              "min        0.000000      0.000000      0.000000             0.000000   \n",
              "25%        0.000000      0.000000      0.000000             0.500000   \n",
              "50%        0.000000      0.000000      1.000000             0.500000   \n",
              "75%        1.000000      1.000000      1.000000             0.887355   \n",
              "max        1.000000      1.000000      1.000000             1.000000   \n",
              "\n",
              "       Overdraft Protection_encode  Credit Rating_encode  Own Your Home_encode  \n",
              "count                 33926.000000          33926.000000          33926.000000  \n",
              "mean                      0.142983              0.622067              0.651593  \n",
              "std                       0.324028              0.381216              0.441987  \n",
              "min                       0.000000              0.000000              0.000000  \n",
              "25%                       0.000000              0.500000              0.000000  \n",
              "50%                       0.000000              0.633705              1.000000  \n",
              "75%                       0.000000              1.000000              1.000000  \n",
              "max                       1.000000              1.000000              1.000000  "
            ]
          },
          "execution_count": 91,
          "metadata": {},
          "output_type": "execute_result"
        }
      ],
      "source": [
        "X.describe()"
      ]
    },
    {
      "cell_type": "markdown",
      "metadata": {
        "id": "2jgBuvCsy0mj"
      },
      "source": [
        "split train and test, test size - 20%"
      ]
    },
    {
      "cell_type": "code",
      "execution_count": null,
      "metadata": {
        "id": "Yy7oyIYkt1cz"
      },
      "outputs": [],
      "source": [
        "X_train, X_test, y_train, y_test = train_test_split(X, y, test_size=0.2, random_state=100)"
      ]
    },
    {
      "cell_type": "markdown",
      "metadata": {
        "id": "hHjrz-w6y5Bm"
      },
      "source": [
        "# SVC"
      ]
    },
    {
      "cell_type": "code",
      "execution_count": null,
      "metadata": {
        "colab": {
          "base_uri": "https://localhost:8080/"
        },
        "id": "YXmj7x2js1Hd",
        "outputId": "3407ca59-61e2-4ba1-b22a-508f5f30e466"
      },
      "outputs": [
        {
          "name": "stdout",
          "output_type": "stream",
          "text": [
            "              precision    recall  f1-score   support\n",
            "\n",
            "           0       0.83      0.91      0.87      3451\n",
            "           1       0.89      0.81      0.85      3335\n",
            "\n",
            "    accuracy                           0.86      6786\n",
            "   macro avg       0.86      0.86      0.86      6786\n",
            "weighted avg       0.86      0.86      0.86      6786\n",
            "\n",
            "85.97111700559977\n"
          ]
        }
      ],
      "source": [
        "SVM = SVC(kernel='linear')\n",
        "SVM.fit(X_train, y_train)\n",
        "\n",
        "predictions_SVM = SVM.predict(X_test)\n",
        "print(classification_report(y_test, predictions_SVM))\n",
        "print(accuracy_score(y_test, predictions_SVM)*100)"
      ]
    },
    {
      "cell_type": "code",
      "execution_count": null,
      "metadata": {
        "colab": {
          "base_uri": "https://localhost:8080/",
          "height": 412
        },
        "id": "WZhccTy2DueE",
        "outputId": "1b61f9a5-be28-437c-965c-f6c33e5b621a"
      },
      "outputs": [
        {
          "data": {
            "text/plain": [
              "Text(39.49999999999999, 0.5, 'Actual')"
            ]
          },
          "execution_count": 94,
          "metadata": {},
          "output_type": "execute_result"
        },
        {
          "data": {
            "image/png": "[encoded data removed]",
            "text/plain": [
              "<Figure size 504x432 with 2 Axes>"
            ]
          },
          "metadata": {},
          "output_type": "display_data"
        }
      ],
      "source": [
        "svc_cm = confusion_matrix(y_test, predictions_SVM)\n",
        "plt.figure(figsize = (7,6))\n",
        "sns.heatmap(svc_cm,cmap= \"Blues\", \n",
        "            linecolor = 'black', \n",
        "            linewidth = 1, \n",
        "            annot = True, \n",
        "            fmt='', \n",
        "            xticklabels = ['not accepted', 'accepted'], \n",
        "            yticklabels = ['not accepted', 'accepted'])\n",
        "plt.xlabel(\"Predicted\")\n",
        "plt.ylabel(\"Actual\")"
      ]
    },
    {
      "cell_type": "markdown",
      "metadata": {
        "id": "3Dxca0Xgy7mv"
      },
      "source": [
        "# LR"
      ]
    },
    {
      "cell_type": "code",
      "execution_count": null,
      "metadata": {
        "colab": {
          "base_uri": "https://localhost:8080/"
        },
        "id": "7pL52zc1J_pp",
        "outputId": "83cb8958-8e22-4646-ed29-bb19f03c933e"
      },
      "outputs": [
        {
          "name": "stdout",
          "output_type": "stream",
          "text": [
            "              precision    recall  f1-score   support\n",
            "\n",
            "           0       0.83      0.90      0.87      3451\n",
            "           1       0.89      0.81      0.85      3335\n",
            "\n",
            "    accuracy                           0.86      6786\n",
            "   macro avg       0.86      0.86      0.86      6786\n",
            "weighted avg       0.86      0.86      0.86      6786\n",
            "\n",
            "85.72060123784262\n"
          ]
        }
      ],
      "source": [
        "LR = LogisticRegression()\n",
        "LR.fit(X_train, y_train)\n",
        "\n",
        "predictions_LR = LR.predict(X_test)\n",
        "print(classification_report(y_test, predictions_LR))\n",
        "print(accuracy_score(y_test, predictions_LR)*100)"
      ]
    },
    {
      "cell_type": "code",
      "execution_count": null,
      "metadata": {
        "colab": {
          "base_uri": "https://localhost:8080/",
          "height": 412
        },
        "id": "oIEiJmL4LKr5",
        "outputId": "5e07da2f-33e6-4498-ab5a-8e568c302172"
      },
      "outputs": [
        {
          "data": {
            "text/plain": [
              "Text(39.49999999999999, 0.5, 'Actual')"
            ]
          },
          "execution_count": 96,
          "metadata": {},
          "output_type": "execute_result"
        },
        {
          "data": {
            "image/png": "[encoded data removed]",
            "text/plain": [
              "<Figure size 504x432 with 2 Axes>"
            ]
          },
          "metadata": {},
          "output_type": "display_data"
        }
      ],
      "source": [
        "lr_cm = confusion_matrix(y_test, predictions_LR)\n",
        "plt.figure(figsize = (7,6))\n",
        "sns.heatmap(lr_cm,cmap= \"Blues\", \n",
        "            linecolor = 'black', \n",
        "            linewidth = 1, \n",
        "            annot = True, \n",
        "            fmt='', \n",
        "            xticklabels = ['not accepted', 'accepted'], \n",
        "            yticklabels = ['not accepted', 'accepted'])\n",
        "plt.xlabel(\"Predicted\")\n",
        "plt.ylabel(\"Actual\")"
      ]
    }
  ],
  "metadata": {
    "colab": {
      "provenance": []
    },
    "kernelspec": {
      "display_name": "Python 3",
      "name": "python3"
    },
    "language_info": {
      "name": "python"
    }
  },
  "nbformat": 4,
  "nbformat_minor": 0
}
