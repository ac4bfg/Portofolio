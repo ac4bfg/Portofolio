{
 "cells": [
  {
   "cell_type": "code",
   "execution_count": 28,
   "metadata": {},
   "outputs": [],
   "source": [
    "import sklearn\n",
    "import librosa\n",
    "import librosa.display\n",
    "import numpy as np\n",
    "import glob\n",
    "import os\n",
    "import cv2\n",
    "import seaborn as sns\n",
    "import pandas as pd\n",
    "import matplotlib.pyplot as plt\n",
    "\n",
    "from sklearn.model_selection import train_test_split\n",
    "from sklearn.metrics import classification_report, accuracy_score, confusion_matrix\n",
    "from sklearn.svm import SVC"
   ]
  },
  {
   "cell_type": "code",
   "execution_count": 7,
   "metadata": {},
   "outputs": [],
   "source": [
    "spektogram, labels = [], []\n",
    "folders = ['OAF_angry', 'OAF_happy', 'OAF_Sad']"
   ]
  },
  {
   "cell_type": "code",
   "execution_count": 8,
   "metadata": {},
   "outputs": [],
   "source": [
    "for folder in folders:\n",
    "    for spc in glob.glob(f'speech_dataset\\{folder}\\*'):\n",
    "        y, sr = librosa.load(spc)\n",
    "        spec = np.abs(librosa.stft(y))\n",
    "        spec = librosa.amplitude_to_db(spec, ref=np.max)\n",
    "        spec = cv2.resize(spec, (64, 64))\n",
    "        spec = spec.flatten()\n",
    "        spektogram.append(spec)\n",
    "        labels.append(folder)\n",
    "data = pd.DataFrame(spektogram)\n",
    "data['label'] = labels\n",
    "data.to_csv('./dataset/spectrogram.csv', index=False)"
   ]
  },
  {
   "cell_type": "code",
   "execution_count": 9,
   "metadata": {},
   "outputs": [
    {
     "data": {
      "text/html": [
       "<div>\n",
       "<style scoped>\n",
       "    .dataframe tbody tr th:only-of-type {\n",
       "        vertical-align: middle;\n",
       "    }\n",
       "\n",
       "    .dataframe tbody tr th {\n",
       "        vertical-align: top;\n",
       "    }\n",
       "\n",
       "    .dataframe thead th {\n",
       "        text-align: right;\n",
       "    }\n",
       "</style>\n",
       "<table border=\"1\" class=\"dataframe\">\n",
       "  <thead>\n",
       "    <tr style=\"text-align: right;\">\n",
       "      <th></th>\n",
       "      <th>0</th>\n",
       "      <th>1</th>\n",
       "      <th>2</th>\n",
       "      <th>3</th>\n",
       "      <th>4</th>\n",
       "      <th>5</th>\n",
       "      <th>6</th>\n",
       "      <th>7</th>\n",
       "      <th>8</th>\n",
       "      <th>9</th>\n",
       "      <th>...</th>\n",
       "      <th>4087</th>\n",
       "      <th>4088</th>\n",
       "      <th>4089</th>\n",
       "      <th>4090</th>\n",
       "      <th>4091</th>\n",
       "      <th>4092</th>\n",
       "      <th>4093</th>\n",
       "      <th>4094</th>\n",
       "      <th>4095</th>\n",
       "      <th>label</th>\n",
       "    </tr>\n",
       "  </thead>\n",
       "  <tbody>\n",
       "    <tr>\n",
       "      <th>0</th>\n",
       "      <td>-74.547005</td>\n",
       "      <td>-69.441480</td>\n",
       "      <td>-74.354180</td>\n",
       "      <td>-70.005775</td>\n",
       "      <td>-63.871067</td>\n",
       "      <td>-64.141815</td>\n",
       "      <td>-61.870876</td>\n",
       "      <td>-59.787724</td>\n",
       "      <td>-67.943245</td>\n",
       "      <td>-76.942040</td>\n",
       "      <td>...</td>\n",
       "      <td>-80.0</td>\n",
       "      <td>-80.0</td>\n",
       "      <td>-80.0</td>\n",
       "      <td>-80.0</td>\n",
       "      <td>-80.0</td>\n",
       "      <td>-80.0</td>\n",
       "      <td>-80.0</td>\n",
       "      <td>-80.0</td>\n",
       "      <td>-80.0</td>\n",
       "      <td>OAF_angry</td>\n",
       "    </tr>\n",
       "    <tr>\n",
       "      <th>1</th>\n",
       "      <td>-65.116150</td>\n",
       "      <td>-72.595764</td>\n",
       "      <td>-74.772910</td>\n",
       "      <td>-71.764640</td>\n",
       "      <td>-69.378540</td>\n",
       "      <td>-70.507440</td>\n",
       "      <td>-67.222600</td>\n",
       "      <td>-59.736267</td>\n",
       "      <td>-58.273090</td>\n",
       "      <td>-63.617060</td>\n",
       "      <td>...</td>\n",
       "      <td>-80.0</td>\n",
       "      <td>-80.0</td>\n",
       "      <td>-80.0</td>\n",
       "      <td>-80.0</td>\n",
       "      <td>-80.0</td>\n",
       "      <td>-80.0</td>\n",
       "      <td>-80.0</td>\n",
       "      <td>-80.0</td>\n",
       "      <td>-80.0</td>\n",
       "      <td>OAF_angry</td>\n",
       "    </tr>\n",
       "    <tr>\n",
       "      <th>2</th>\n",
       "      <td>-69.728210</td>\n",
       "      <td>-71.085205</td>\n",
       "      <td>-71.162094</td>\n",
       "      <td>-70.901930</td>\n",
       "      <td>-72.016846</td>\n",
       "      <td>-72.039960</td>\n",
       "      <td>-73.833430</td>\n",
       "      <td>-71.225190</td>\n",
       "      <td>-67.749680</td>\n",
       "      <td>-74.379260</td>\n",
       "      <td>...</td>\n",
       "      <td>-80.0</td>\n",
       "      <td>-80.0</td>\n",
       "      <td>-80.0</td>\n",
       "      <td>-80.0</td>\n",
       "      <td>-80.0</td>\n",
       "      <td>-80.0</td>\n",
       "      <td>-80.0</td>\n",
       "      <td>-80.0</td>\n",
       "      <td>-80.0</td>\n",
       "      <td>OAF_angry</td>\n",
       "    </tr>\n",
       "    <tr>\n",
       "      <th>3</th>\n",
       "      <td>-70.544030</td>\n",
       "      <td>-73.021650</td>\n",
       "      <td>-72.255170</td>\n",
       "      <td>-69.449710</td>\n",
       "      <td>-69.694780</td>\n",
       "      <td>-70.653430</td>\n",
       "      <td>-63.136883</td>\n",
       "      <td>-60.183846</td>\n",
       "      <td>-69.370080</td>\n",
       "      <td>-75.848694</td>\n",
       "      <td>...</td>\n",
       "      <td>-80.0</td>\n",
       "      <td>-80.0</td>\n",
       "      <td>-80.0</td>\n",
       "      <td>-80.0</td>\n",
       "      <td>-80.0</td>\n",
       "      <td>-80.0</td>\n",
       "      <td>-80.0</td>\n",
       "      <td>-80.0</td>\n",
       "      <td>-80.0</td>\n",
       "      <td>OAF_angry</td>\n",
       "    </tr>\n",
       "    <tr>\n",
       "      <th>4</th>\n",
       "      <td>-70.798770</td>\n",
       "      <td>-71.076420</td>\n",
       "      <td>-67.429910</td>\n",
       "      <td>-68.385820</td>\n",
       "      <td>-62.089560</td>\n",
       "      <td>-59.170700</td>\n",
       "      <td>-59.488174</td>\n",
       "      <td>-64.614944</td>\n",
       "      <td>-66.215126</td>\n",
       "      <td>-65.286080</td>\n",
       "      <td>...</td>\n",
       "      <td>-80.0</td>\n",
       "      <td>-80.0</td>\n",
       "      <td>-80.0</td>\n",
       "      <td>-80.0</td>\n",
       "      <td>-80.0</td>\n",
       "      <td>-80.0</td>\n",
       "      <td>-80.0</td>\n",
       "      <td>-80.0</td>\n",
       "      <td>-80.0</td>\n",
       "      <td>OAF_angry</td>\n",
       "    </tr>\n",
       "  </tbody>\n",
       "</table>\n",
       "<p>5 rows × 4097 columns</p>\n",
       "</div>"
      ],
      "text/plain": [
       "           0          1          2          3          4          5  \\\n",
       "0 -74.547005 -69.441480 -74.354180 -70.005775 -63.871067 -64.141815   \n",
       "1 -65.116150 -72.595764 -74.772910 -71.764640 -69.378540 -70.507440   \n",
       "2 -69.728210 -71.085205 -71.162094 -70.901930 -72.016846 -72.039960   \n",
       "3 -70.544030 -73.021650 -72.255170 -69.449710 -69.694780 -70.653430   \n",
       "4 -70.798770 -71.076420 -67.429910 -68.385820 -62.089560 -59.170700   \n",
       "\n",
       "           6          7          8          9  ...  4087  4088  4089  4090  \\\n",
       "0 -61.870876 -59.787724 -67.943245 -76.942040  ... -80.0 -80.0 -80.0 -80.0   \n",
       "1 -67.222600 -59.736267 -58.273090 -63.617060  ... -80.0 -80.0 -80.0 -80.0   \n",
       "2 -73.833430 -71.225190 -67.749680 -74.379260  ... -80.0 -80.0 -80.0 -80.0   \n",
       "3 -63.136883 -60.183846 -69.370080 -75.848694  ... -80.0 -80.0 -80.0 -80.0   \n",
       "4 -59.488174 -64.614944 -66.215126 -65.286080  ... -80.0 -80.0 -80.0 -80.0   \n",
       "\n",
       "   4091  4092  4093  4094  4095      label  \n",
       "0 -80.0 -80.0 -80.0 -80.0 -80.0  OAF_angry  \n",
       "1 -80.0 -80.0 -80.0 -80.0 -80.0  OAF_angry  \n",
       "2 -80.0 -80.0 -80.0 -80.0 -80.0  OAF_angry  \n",
       "3 -80.0 -80.0 -80.0 -80.0 -80.0  OAF_angry  \n",
       "4 -80.0 -80.0 -80.0 -80.0 -80.0  OAF_angry  \n",
       "\n",
       "[5 rows x 4097 columns]"
      ]
     },
     "execution_count": 9,
     "metadata": {},
     "output_type": "execute_result"
    }
   ],
   "source": [
    "data = pd.read_csv('./dataset/spektogram.csv')\n",
    "data.head(5)"
   ]
  },
  {
   "cell_type": "code",
   "execution_count": 33,
   "metadata": {},
   "outputs": [],
   "source": [
    "y = data['label']\n",
    "X = data.drop(['label'], axis=1)\n",
    "X_train, X_test, y_train, y_test = train_test_split(X, y, test_size=0.2, random_state=100)"
   ]
  },
  {
   "cell_type": "code",
   "execution_count": 34,
   "metadata": {},
   "outputs": [
    {
     "name": "stdout",
     "output_type": "stream",
     "text": [
      "              precision    recall  f1-score   support\n",
      "\n",
      "     OAF_Sad       1.00      1.00      1.00        38\n",
      "   OAF_angry       1.00      1.00      1.00        38\n",
      "   OAF_happy       1.00      1.00      1.00        44\n",
      "\n",
      "    accuracy                           1.00       120\n",
      "   macro avg       1.00      1.00      1.00       120\n",
      "weighted avg       1.00      1.00      1.00       120\n",
      "\n",
      "100.0\n"
     ]
    }
   ],
   "source": [
    "SVM = SVC(C=1.0)\n",
    "SVM.fit(X_train,y_train)\n",
    "predictions_SVM = SVM.predict(X_test)\n",
    "print(classification_report(y_test, predictions_SVM))\n",
    "print(accuracy_score(y_test, predictions_SVM)*100)"
   ]
  },
  {
   "cell_type": "code",
   "execution_count": 36,
   "metadata": {},
   "outputs": [
    {
     "data": {
      "text/plain": [
       "Text(58.222222222222214, 0.5, 'Actual')"
      ]
     },
     "execution_count": 36,
     "metadata": {},
     "output_type": "execute_result"
    },
    {
     "data": {
      "image/png": "[encoded data removed]",
      "text/plain": [
       "<Figure size 700x600 with 2 Axes>"
      ]
     },
     "metadata": {},
     "output_type": "display_data"
    }
   ],
   "source": [
    "cm = confusion_matrix(y_test, predictions_SVM)\n",
    "plt.figure(figsize = (7,6))\n",
    "sns.heatmap(cm,cmap= \"Blues\", \n",
    "            linecolor = 'black', \n",
    "            linewidth = 1, \n",
    "            annot = True, \n",
    "            fmt='', \n",
    "            xticklabels = ['Sad', 'Angry', 'Happy'], \n",
    "            yticklabels = ['Sad', 'Angry', 'Happy'])\n",
    "plt.xlabel(\"Predicted\")\n",
    "plt.ylabel(\"Actual\")"
   ]
  }
 ],
 "metadata": {
  "kernelspec": {
   "display_name": "Python 3.10.6 64-bit",
   "language": "python",
   "name": "python3"
  },
  "language_info": {
   "codemirror_mode": {
    "name": "ipython",
    "version": 3
   },
   "file_extension": ".py",
   "mimetype": "text/x-python",
   "name": "python",
   "nbconvert_exporter": "python",
   "pygments_lexer": "ipython3",
   "version": "3.10.6"
  },
  "orig_nbformat": 4,
  "vscode": {
   "interpreter": {
    "hash": "26de051ba29f2982a8de78e945f0abaf191376122a1563185a90213a26c5da77"
   }
  }
 },
 "nbformat": 4,
 "nbformat_minor": 2
}
