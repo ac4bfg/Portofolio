{
 "cells": [
  {
   "cell_type": "code",
   "execution_count": 2,
   "metadata": {},
   "outputs": [],
   "source": [
    "import pandas as pd\n",
    "import numpy as np"
   ]
  },
  {
   "cell_type": "code",
   "execution_count": 3,
   "metadata": {},
   "outputs": [
    {
     "data": {
      "text/html": [
       "<div>\n",
       "<style scoped>\n",
       "    .dataframe tbody tr th:only-of-type {\n",
       "        vertical-align: middle;\n",
       "    }\n",
       "\n",
       "    .dataframe tbody tr th {\n",
       "        vertical-align: top;\n",
       "    }\n",
       "\n",
       "    .dataframe thead th {\n",
       "        text-align: right;\n",
       "    }\n",
       "</style>\n",
       "<table border=\"1\" class=\"dataframe\">\n",
       "  <thead>\n",
       "    <tr style=\"text-align: right;\">\n",
       "      <th></th>\n",
       "      <th>pixel1</th>\n",
       "      <th>pixel2</th>\n",
       "      <th>pixel3</th>\n",
       "      <th>pixel4</th>\n",
       "      <th>pixel5</th>\n",
       "      <th>pixel6</th>\n",
       "      <th>pixel7</th>\n",
       "      <th>pixel8</th>\n",
       "      <th>pixel9</th>\n",
       "      <th>pixel10</th>\n",
       "      <th>...</th>\n",
       "      <th>pixel775</th>\n",
       "      <th>pixel776</th>\n",
       "      <th>pixel777</th>\n",
       "      <th>pixel778</th>\n",
       "      <th>pixel779</th>\n",
       "      <th>pixel780</th>\n",
       "      <th>pixel781</th>\n",
       "      <th>pixel782</th>\n",
       "      <th>pixel783</th>\n",
       "      <th>pixel784</th>\n",
       "    </tr>\n",
       "  </thead>\n",
       "  <tbody>\n",
       "    <tr>\n",
       "      <th>0</th>\n",
       "      <td>149</td>\n",
       "      <td>149</td>\n",
       "      <td>150</td>\n",
       "      <td>150</td>\n",
       "      <td>150</td>\n",
       "      <td>151</td>\n",
       "      <td>151</td>\n",
       "      <td>150</td>\n",
       "      <td>151</td>\n",
       "      <td>152</td>\n",
       "      <td>...</td>\n",
       "      <td>138</td>\n",
       "      <td>148</td>\n",
       "      <td>127</td>\n",
       "      <td>89</td>\n",
       "      <td>82</td>\n",
       "      <td>96</td>\n",
       "      <td>106</td>\n",
       "      <td>112</td>\n",
       "      <td>120</td>\n",
       "      <td>107</td>\n",
       "    </tr>\n",
       "    <tr>\n",
       "      <th>1</th>\n",
       "      <td>126</td>\n",
       "      <td>128</td>\n",
       "      <td>131</td>\n",
       "      <td>132</td>\n",
       "      <td>133</td>\n",
       "      <td>134</td>\n",
       "      <td>135</td>\n",
       "      <td>135</td>\n",
       "      <td>136</td>\n",
       "      <td>138</td>\n",
       "      <td>...</td>\n",
       "      <td>47</td>\n",
       "      <td>104</td>\n",
       "      <td>194</td>\n",
       "      <td>183</td>\n",
       "      <td>186</td>\n",
       "      <td>184</td>\n",
       "      <td>184</td>\n",
       "      <td>184</td>\n",
       "      <td>182</td>\n",
       "      <td>180</td>\n",
       "    </tr>\n",
       "    <tr>\n",
       "      <th>2</th>\n",
       "      <td>85</td>\n",
       "      <td>88</td>\n",
       "      <td>92</td>\n",
       "      <td>96</td>\n",
       "      <td>105</td>\n",
       "      <td>123</td>\n",
       "      <td>135</td>\n",
       "      <td>143</td>\n",
       "      <td>147</td>\n",
       "      <td>152</td>\n",
       "      <td>...</td>\n",
       "      <td>68</td>\n",
       "      <td>166</td>\n",
       "      <td>242</td>\n",
       "      <td>227</td>\n",
       "      <td>230</td>\n",
       "      <td>227</td>\n",
       "      <td>226</td>\n",
       "      <td>225</td>\n",
       "      <td>224</td>\n",
       "      <td>222</td>\n",
       "    </tr>\n",
       "    <tr>\n",
       "      <th>3</th>\n",
       "      <td>203</td>\n",
       "      <td>205</td>\n",
       "      <td>207</td>\n",
       "      <td>206</td>\n",
       "      <td>207</td>\n",
       "      <td>209</td>\n",
       "      <td>210</td>\n",
       "      <td>209</td>\n",
       "      <td>210</td>\n",
       "      <td>209</td>\n",
       "      <td>...</td>\n",
       "      <td>154</td>\n",
       "      <td>248</td>\n",
       "      <td>247</td>\n",
       "      <td>248</td>\n",
       "      <td>253</td>\n",
       "      <td>236</td>\n",
       "      <td>230</td>\n",
       "      <td>240</td>\n",
       "      <td>253</td>\n",
       "      <td>255</td>\n",
       "    </tr>\n",
       "    <tr>\n",
       "      <th>4</th>\n",
       "      <td>188</td>\n",
       "      <td>191</td>\n",
       "      <td>193</td>\n",
       "      <td>195</td>\n",
       "      <td>199</td>\n",
       "      <td>201</td>\n",
       "      <td>202</td>\n",
       "      <td>203</td>\n",
       "      <td>203</td>\n",
       "      <td>203</td>\n",
       "      <td>...</td>\n",
       "      <td>26</td>\n",
       "      <td>40</td>\n",
       "      <td>64</td>\n",
       "      <td>48</td>\n",
       "      <td>29</td>\n",
       "      <td>46</td>\n",
       "      <td>49</td>\n",
       "      <td>46</td>\n",
       "      <td>46</td>\n",
       "      <td>53</td>\n",
       "    </tr>\n",
       "  </tbody>\n",
       "</table>\n",
       "<p>5 rows × 784 columns</p>\n",
       "</div>"
      ],
      "text/plain": [
       "   pixel1  pixel2  pixel3  pixel4  pixel5  pixel6  pixel7  pixel8  pixel9  \\\n",
       "0     149     149     150     150     150     151     151     150     151   \n",
       "1     126     128     131     132     133     134     135     135     136   \n",
       "2      85      88      92      96     105     123     135     143     147   \n",
       "3     203     205     207     206     207     209     210     209     210   \n",
       "4     188     191     193     195     199     201     202     203     203   \n",
       "\n",
       "   pixel10  ...  pixel775  pixel776  pixel777  pixel778  pixel779  pixel780  \\\n",
       "0      152  ...       138       148       127        89        82        96   \n",
       "1      138  ...        47       104       194       183       186       184   \n",
       "2      152  ...        68       166       242       227       230       227   \n",
       "3      209  ...       154       248       247       248       253       236   \n",
       "4      203  ...        26        40        64        48        29        46   \n",
       "\n",
       "   pixel781  pixel782  pixel783  pixel784  \n",
       "0       106       112       120       107  \n",
       "1       184       184       182       180  \n",
       "2       226       225       224       222  \n",
       "3       230       240       253       255  \n",
       "4        49        46        46        53  \n",
       "\n",
       "[5 rows x 784 columns]"
      ]
     },
     "execution_count": 3,
     "metadata": {},
     "output_type": "execute_result"
    }
   ],
   "source": [
    "df_train=pd.read_csv('sign_mnist_train.csv')\n",
    "df_test=pd.read_csv('sign_mnist_test.csv')\n",
    "y_train=df_train['label'].values\n",
    "y_test=df_test['label'].values\n",
    "df_train.drop('label',axis=1,inplace=True)\n",
    "df_test.drop('label',axis=1,inplace=True)\n",
    "df_test.head()"
   ]
  },
  {
   "cell_type": "code",
   "execution_count": 4,
   "metadata": {},
   "outputs": [
    {
     "data": {
      "text/plain": [
       "array([ 0,  1,  2,  3,  4,  5,  6,  7,  8, 10, 11, 12, 13, 14, 15, 16, 17,\n",
       "       18, 19, 20, 21, 22, 23, 24], dtype=int64)"
      ]
     },
     "execution_count": 4,
     "metadata": {},
     "output_type": "execute_result"
    }
   ],
   "source": [
    "x_train=df_train.values\n",
    "x_test=df_test.values\n",
    "unique_val = np.array(y_train)\n",
    "np.unique(unique_val)"
   ]
  },
  {
   "cell_type": "code",
   "execution_count": 5,
   "metadata": {},
   "outputs": [],
   "source": [
    "x_train=np.array(x_train.reshape(-1,28,28,1))\n",
    "x_test=np.array(x_test.reshape(-1,28,28,1))"
   ]
  },
  {
   "cell_type": "code",
   "execution_count": 6,
   "metadata": {},
   "outputs": [
    {
     "name": "stdout",
     "output_type": "stream",
     "text": [
      "(27455, 28, 28, 1)\n",
      "(7172, 28, 28, 1)\n"
     ]
    }
   ],
   "source": [
    "print(x_train.shape)\n",
    "print(x_test.shape)"
   ]
  },
  {
   "cell_type": "code",
   "execution_count": 7,
   "metadata": {},
   "outputs": [],
   "source": [
    "from sklearn.preprocessing import LabelBinarizer\n",
    "lb_train= LabelBinarizer()\n",
    "lb_test=LabelBinarizer()\n",
    "y_train=lb_train.fit_transform(y_train)\n",
    "y_test=lb_test.fit_transform(y_test)"
   ]
  },
  {
   "cell_type": "code",
   "execution_count": 8,
   "metadata": {},
   "outputs": [
    {
     "name": "stdout",
     "output_type": "stream",
     "text": [
      "[[0 0 0 ... 0 0 0]\n",
      " [0 0 0 ... 0 0 0]\n",
      " [0 0 1 ... 0 0 0]\n",
      " ...\n",
      " [0 0 0 ... 0 0 0]\n",
      " [0 0 0 ... 0 0 0]\n",
      " [0 0 0 ... 0 1 0]]\n",
      "[[0 0 0 ... 0 0 0]\n",
      " [0 0 0 ... 0 0 0]\n",
      " [0 0 0 ... 0 0 0]\n",
      " ...\n",
      " [0 0 1 ... 0 0 0]\n",
      " [0 0 0 ... 0 0 0]\n",
      " [0 0 1 ... 0 0 0]]\n"
     ]
    }
   ],
   "source": [
    "print(y_train)\n",
    "print(y_test)"
   ]
  },
  {
   "cell_type": "code",
   "execution_count": 9,
   "metadata": {},
   "outputs": [
    {
     "data": {
      "text/plain": [
       "<matplotlib.image.AxesImage at 0x18696821610>"
      ]
     },
     "execution_count": 9,
     "metadata": {},
     "output_type": "execute_result"
    },
    {
     "data": {
      "image/png": "[encoded data removed]",
      "text/plain": [
       "<Figure size 432x288 with 1 Axes>"
      ]
     },
     "metadata": {
      "needs_background": "light"
     },
     "output_type": "display_data"
    }
   ],
   "source": [
    "import matplotlib.pyplot as plt\n",
    "plt.imshow(x_train[10].reshape(28,28),cmap='gray')"
   ]
  },
  {
   "cell_type": "code",
   "execution_count": 10,
   "metadata": {},
   "outputs": [],
   "source": [
    "x_train=x_train/255\n",
    "x_test=x_test/255"
   ]
  },
  {
   "cell_type": "code",
   "execution_count": 17,
   "metadata": {},
   "outputs": [],
   "source": [
    "import keras\n",
    "from keras.models import Sequential\n",
    "from keras.layers import Dense, Conv2D, MaxPooling2D, Flatten, Dropout"
   ]
  },
  {
   "cell_type": "code",
   "execution_count": 12,
   "metadata": {},
   "outputs": [],
   "source": [
    "batch_size = 128\n",
    "num_classes = 24\n",
    "epochs = 100\n"
   ]
  },
  {
   "cell_type": "code",
   "execution_count": 13,
   "metadata": {},
   "outputs": [],
   "source": [
    "model = Sequential()\n",
    "model.add(Conv2D(64, kernel_size=(3,3), activation = 'relu', input_shape=(28, 28 ,1) ))\n",
    "model.add(MaxPooling2D(pool_size = (2, 2)))\n",
    "\n",
    "model.add(Conv2D(64, kernel_size = (3, 3), activation = 'relu'))\n",
    "model.add(MaxPooling2D(pool_size = (2, 2)))\n",
    "model.add(Dropout(0.20))\n",
    "\n",
    "model.add(Conv2D(64, kernel_size = (3, 3), activation = 'relu'))\n",
    "model.add(MaxPooling2D(pool_size = (2, 2)))\n",
    "model.add(Dropout(0.20))\n",
    "\n",
    "model.add(Flatten())\n",
    "model.add(Dense(128, activation = 'relu'))\n",
    "model.add(Dropout(0.20))\n",
    "model.add(Dense(num_classes, activation = 'softmax'))"
   ]
  },
  {
   "cell_type": "code",
   "execution_count": 19,
   "metadata": {
    "scrolled": true
   },
   "outputs": [],
   "source": [
    "from tensorflow.keras.optimizers import Adam"
   ]
  },
  {
   "cell_type": "code",
   "execution_count": 22,
   "metadata": {
    "scrolled": false
   },
   "outputs": [],
   "source": [
    "model.compile(loss = keras.losses.categorical_crossentropy, optimizer=Adam(),\n",
    "              metrics=['accuracy'])\n"
   ]
  },
  {
   "cell_type": "code",
   "execution_count": 23,
   "metadata": {},
   "outputs": [
    {
     "name": "stdout",
     "output_type": "stream",
     "text": [
      "Epoch 1/100\n",
      "215/215 [==============================] - 14s 65ms/step - loss: 2.6776 - accuracy: 0.1722 - val_loss: 1.6045 - val_accuracy: 0.5365\n",
      "Epoch 2/100\n",
      "215/215 [==============================] - 14s 65ms/step - loss: 1.3184 - accuracy: 0.5513 - val_loss: 0.8707 - val_accuracy: 0.7238\n",
      "Epoch 3/100\n",
      "215/215 [==============================] - 14s 67ms/step - loss: 0.8469 - accuracy: 0.7107 - val_loss: 0.5880 - val_accuracy: 0.8016\n",
      "Epoch 4/100\n",
      "215/215 [==============================] - 14s 65ms/step - loss: 0.5979 - accuracy: 0.7967 - val_loss: 0.4861 - val_accuracy: 0.8292\n",
      "Epoch 5/100\n",
      "215/215 [==============================] - 14s 65ms/step - loss: 0.4432 - accuracy: 0.8493 - val_loss: 0.3664 - val_accuracy: 0.8843\n",
      "Epoch 6/100\n",
      "215/215 [==============================] - 14s 65ms/step - loss: 0.3499 - accuracy: 0.8817 - val_loss: 0.3574 - val_accuracy: 0.8667\n",
      "Epoch 7/100\n",
      "215/215 [==============================] - 14s 65ms/step - loss: 0.2847 - accuracy: 0.9033 - val_loss: 0.2665 - val_accuracy: 0.9021\n",
      "Epoch 8/100\n",
      "215/215 [==============================] - 14s 66ms/step - loss: 0.2248 - accuracy: 0.9236 - val_loss: 0.2177 - val_accuracy: 0.9255\n",
      "Epoch 9/100\n",
      "215/215 [==============================] - 15s 69ms/step - loss: 0.1998 - accuracy: 0.9341 - val_loss: 0.2176 - val_accuracy: 0.9159\n",
      "Epoch 10/100\n",
      "215/215 [==============================] - 15s 70ms/step - loss: 0.1685 - accuracy: 0.9431 - val_loss: 0.1909 - val_accuracy: 0.9294\n",
      "Epoch 11/100\n",
      "215/215 [==============================] - 15s 72ms/step - loss: 0.1449 - accuracy: 0.9537 - val_loss: 0.2084 - val_accuracy: 0.9332\n",
      "Epoch 12/100\n",
      "215/215 [==============================] - 15s 72ms/step - loss: 0.1300 - accuracy: 0.9575 - val_loss: 0.1662 - val_accuracy: 0.9569\n",
      "Epoch 13/100\n",
      "215/215 [==============================] - 15s 71ms/step - loss: 0.1189 - accuracy: 0.9614 - val_loss: 0.1762 - val_accuracy: 0.9340\n",
      "Epoch 14/100\n",
      "215/215 [==============================] - 15s 72ms/step - loss: 0.1059 - accuracy: 0.9661 - val_loss: 0.1638 - val_accuracy: 0.9361\n",
      "Epoch 15/100\n",
      "215/215 [==============================] - 14s 65ms/step - loss: 0.0923 - accuracy: 0.9700 - val_loss: 0.1437 - val_accuracy: 0.9466\n",
      "Epoch 16/100\n",
      "215/215 [==============================] - 15s 68ms/step - loss: 0.0852 - accuracy: 0.9717 - val_loss: 0.1557 - val_accuracy: 0.9345\n",
      "Epoch 17/100\n",
      "215/215 [==============================] - 14s 67ms/step - loss: 0.0745 - accuracy: 0.9771 - val_loss: 0.1318 - val_accuracy: 0.9508\n",
      "Epoch 18/100\n",
      "215/215 [==============================] - 15s 71ms/step - loss: 0.0730 - accuracy: 0.9764 - val_loss: 0.1583 - val_accuracy: 0.9497\n",
      "Epoch 19/100\n",
      "215/215 [==============================] - 14s 64ms/step - loss: 0.0713 - accuracy: 0.9764 - val_loss: 0.1596 - val_accuracy: 0.9347\n",
      "Epoch 20/100\n",
      "215/215 [==============================] - 14s 66ms/step - loss: 0.0606 - accuracy: 0.9804 - val_loss: 0.1128 - val_accuracy: 0.9547\n",
      "Epoch 21/100\n",
      "215/215 [==============================] - 14s 66ms/step - loss: 0.0556 - accuracy: 0.9818 - val_loss: 0.1162 - val_accuracy: 0.9651\n",
      "Epoch 22/100\n",
      "215/215 [==============================] - 14s 64ms/step - loss: 0.0577 - accuracy: 0.9808 - val_loss: 0.1135 - val_accuracy: 0.9552\n",
      "Epoch 23/100\n",
      "215/215 [==============================] - 14s 65ms/step - loss: 0.0514 - accuracy: 0.9838 - val_loss: 0.1256 - val_accuracy: 0.9495\n",
      "Epoch 24/100\n",
      "215/215 [==============================] - 14s 63ms/step - loss: 0.0433 - accuracy: 0.9864 - val_loss: 0.0997 - val_accuracy: 0.9661\n",
      "Epoch 25/100\n",
      "215/215 [==============================] - 14s 64ms/step - loss: 0.0460 - accuracy: 0.9851 - val_loss: 0.1216 - val_accuracy: 0.9583\n",
      "Epoch 26/100\n",
      "215/215 [==============================] - 14s 65ms/step - loss: 0.0428 - accuracy: 0.9864 - val_loss: 0.1109 - val_accuracy: 0.9685\n",
      "Epoch 27/100\n",
      "215/215 [==============================] - 14s 65ms/step - loss: 0.0421 - accuracy: 0.9866 - val_loss: 0.0995 - val_accuracy: 0.9591\n",
      "Epoch 28/100\n",
      "215/215 [==============================] - 14s 66ms/step - loss: 0.0449 - accuracy: 0.9853 - val_loss: 0.0885 - val_accuracy: 0.9640\n",
      "Epoch 29/100\n",
      "215/215 [==============================] - 15s 69ms/step - loss: 0.0417 - accuracy: 0.9865 - val_loss: 0.1091 - val_accuracy: 0.9566\n",
      "Epoch 30/100\n",
      "215/215 [==============================] - 14s 66ms/step - loss: 0.0397 - accuracy: 0.9875 - val_loss: 0.1224 - val_accuracy: 0.9522\n",
      "Epoch 31/100\n",
      "215/215 [==============================] - 14s 64ms/step - loss: 0.0383 - accuracy: 0.9871 - val_loss: 0.1180 - val_accuracy: 0.9520\n",
      "Epoch 32/100\n",
      "215/215 [==============================] - 14s 66ms/step - loss: 0.0389 - accuracy: 0.9875 - val_loss: 0.1249 - val_accuracy: 0.9605\n",
      "Epoch 33/100\n",
      "215/215 [==============================] - 14s 66ms/step - loss: 0.0342 - accuracy: 0.9890 - val_loss: 0.0783 - val_accuracy: 0.9672\n",
      "Epoch 34/100\n",
      "215/215 [==============================] - 14s 67ms/step - loss: 0.0322 - accuracy: 0.9901 - val_loss: 0.0902 - val_accuracy: 0.9711\n",
      "Epoch 35/100\n",
      "215/215 [==============================] - 15s 69ms/step - loss: 0.0307 - accuracy: 0.9897 - val_loss: 0.0989 - val_accuracy: 0.9683\n",
      "Epoch 36/100\n",
      "215/215 [==============================] - 16s 75ms/step - loss: 0.0308 - accuracy: 0.9902 - val_loss: 0.0733 - val_accuracy: 0.9699\n",
      "Epoch 37/100\n",
      "215/215 [==============================] - 15s 70ms/step - loss: 0.0313 - accuracy: 0.9896 - val_loss: 0.0853 - val_accuracy: 0.9683\n",
      "Epoch 38/100\n",
      "215/215 [==============================] - 16s 73ms/step - loss: 0.0302 - accuracy: 0.9902 - val_loss: 0.1161 - val_accuracy: 0.9624\n",
      "Epoch 39/100\n",
      "215/215 [==============================] - 15s 69ms/step - loss: 0.0343 - accuracy: 0.9890 - val_loss: 0.0849 - val_accuracy: 0.9683\n",
      "Epoch 40/100\n",
      "215/215 [==============================] - 15s 68ms/step - loss: 0.0242 - accuracy: 0.9925 - val_loss: 0.0852 - val_accuracy: 0.9651\n",
      "Epoch 41/100\n",
      "215/215 [==============================] - 15s 71ms/step - loss: 0.0258 - accuracy: 0.9915 - val_loss: 0.0806 - val_accuracy: 0.9692\n",
      "Epoch 42/100\n",
      "215/215 [==============================] - 16s 73ms/step - loss: 0.0262 - accuracy: 0.9912 - val_loss: 0.0987 - val_accuracy: 0.9617\n",
      "Epoch 43/100\n",
      "215/215 [==============================] - 17s 79ms/step - loss: 0.0286 - accuracy: 0.9910 - val_loss: 0.1116 - val_accuracy: 0.9583\n",
      "Epoch 44/100\n",
      "215/215 [==============================] - 16s 73ms/step - loss: 0.0276 - accuracy: 0.9911 - val_loss: 0.1275 - val_accuracy: 0.9494\n",
      "Epoch 45/100\n",
      "215/215 [==============================] - 15s 70ms/step - loss: 0.0270 - accuracy: 0.9906 - val_loss: 0.1030 - val_accuracy: 0.9685\n",
      "Epoch 46/100\n",
      "215/215 [==============================] - 15s 70ms/step - loss: 0.0271 - accuracy: 0.9918 - val_loss: 0.1131 - val_accuracy: 0.9586\n",
      "Epoch 47/100\n",
      "215/215 [==============================] - 16s 73ms/step - loss: 0.0259 - accuracy: 0.9919 - val_loss: 0.1063 - val_accuracy: 0.9601\n",
      "Epoch 48/100\n",
      "215/215 [==============================] - 15s 71ms/step - loss: 0.0242 - accuracy: 0.9924 - val_loss: 0.1049 - val_accuracy: 0.9605\n",
      "Epoch 49/100\n",
      "215/215 [==============================] - 15s 68ms/step - loss: 0.0221 - accuracy: 0.9930 - val_loss: 0.1514 - val_accuracy: 0.9558\n",
      "Epoch 50/100\n",
      "215/215 [==============================] - 15s 70ms/step - loss: 0.0225 - accuracy: 0.9924 - val_loss: 0.1249 - val_accuracy: 0.9647\n",
      "Epoch 51/100\n",
      "215/215 [==============================] - 15s 72ms/step - loss: 0.0227 - accuracy: 0.9931 - val_loss: 0.0995 - val_accuracy: 0.9692\n",
      "Epoch 52/100\n",
      "215/215 [==============================] - 16s 74ms/step - loss: 0.0224 - accuracy: 0.9929 - val_loss: 0.1142 - val_accuracy: 0.9633\n",
      "Epoch 53/100\n",
      "215/215 [==============================] - 16s 76ms/step - loss: 0.0200 - accuracy: 0.9935 - val_loss: 0.1090 - val_accuracy: 0.9618\n",
      "Epoch 54/100\n",
      "215/215 [==============================] - 16s 74ms/step - loss: 0.0258 - accuracy: 0.9921 - val_loss: 0.0635 - val_accuracy: 0.9752\n",
      "Epoch 55/100\n",
      "215/215 [==============================] - 16s 76ms/step - loss: 0.0190 - accuracy: 0.9937 - val_loss: 0.0916 - val_accuracy: 0.9683\n",
      "Epoch 56/100\n",
      "215/215 [==============================] - 16s 74ms/step - loss: 0.0214 - accuracy: 0.9930 - val_loss: 0.0958 - val_accuracy: 0.9668\n",
      "Epoch 57/100\n"
     ]
    },
    {
     "name": "stdout",
     "output_type": "stream",
     "text": [
      "215/215 [==============================] - 16s 72ms/step - loss: 0.0201 - accuracy: 0.9940 - val_loss: 0.1018 - val_accuracy: 0.9658\n",
      "Epoch 58/100\n",
      "215/215 [==============================] - 15s 70ms/step - loss: 0.0222 - accuracy: 0.9929 - val_loss: 0.0791 - val_accuracy: 0.9724\n",
      "Epoch 59/100\n",
      "215/215 [==============================] - 15s 71ms/step - loss: 0.0227 - accuracy: 0.9926 - val_loss: 0.1149 - val_accuracy: 0.9619\n",
      "Epoch 60/100\n",
      "215/215 [==============================] - 16s 75ms/step - loss: 0.0172 - accuracy: 0.9947 - val_loss: 0.0958 - val_accuracy: 0.9732\n",
      "Epoch 61/100\n",
      "215/215 [==============================] - 16s 73ms/step - loss: 0.0173 - accuracy: 0.9941 - val_loss: 0.0818 - val_accuracy: 0.9702\n",
      "Epoch 62/100\n",
      "215/215 [==============================] - 15s 71ms/step - loss: 0.0196 - accuracy: 0.9933 - val_loss: 0.1019 - val_accuracy: 0.9663\n",
      "Epoch 63/100\n",
      "215/215 [==============================] - 14s 65ms/step - loss: 0.0185 - accuracy: 0.9944 - val_loss: 0.0702 - val_accuracy: 0.9732\n",
      "Epoch 64/100\n",
      "215/215 [==============================] - 14s 66ms/step - loss: 0.0190 - accuracy: 0.9937 - val_loss: 0.0973 - val_accuracy: 0.9647\n",
      "Epoch 65/100\n",
      "215/215 [==============================] - 15s 69ms/step - loss: 0.0217 - accuracy: 0.9929 - val_loss: 0.0787 - val_accuracy: 0.9736\n",
      "Epoch 66/100\n",
      "215/215 [==============================] - 15s 70ms/step - loss: 0.0224 - accuracy: 0.9933 - val_loss: 0.1286 - val_accuracy: 0.9515\n",
      "Epoch 67/100\n",
      "215/215 [==============================] - 15s 70ms/step - loss: 0.0190 - accuracy: 0.9933 - val_loss: 0.0949 - val_accuracy: 0.9709\n",
      "Epoch 68/100\n",
      "215/215 [==============================] - 15s 70ms/step - loss: 0.0163 - accuracy: 0.9949 - val_loss: 0.1083 - val_accuracy: 0.9605\n",
      "Epoch 69/100\n",
      "215/215 [==============================] - 15s 69ms/step - loss: 0.0173 - accuracy: 0.9948 - val_loss: 0.0769 - val_accuracy: 0.9720\n",
      "Epoch 70/100\n",
      "215/215 [==============================] - 15s 70ms/step - loss: 0.0163 - accuracy: 0.9950 - val_loss: 0.1164 - val_accuracy: 0.9618\n",
      "Epoch 71/100\n",
      "215/215 [==============================] - 15s 71ms/step - loss: 0.0178 - accuracy: 0.9941 - val_loss: 0.0921 - val_accuracy: 0.9668\n",
      "Epoch 72/100\n",
      "215/215 [==============================] - 16s 74ms/step - loss: 0.0151 - accuracy: 0.9953 - val_loss: 0.0759 - val_accuracy: 0.9686\n",
      "Epoch 73/100\n",
      "215/215 [==============================] - 16s 76ms/step - loss: 0.0184 - accuracy: 0.9940 - val_loss: 0.1144 - val_accuracy: 0.9661\n",
      "Epoch 74/100\n",
      "215/215 [==============================] - 16s 73ms/step - loss: 0.0143 - accuracy: 0.9957 - val_loss: 0.0827 - val_accuracy: 0.9784\n",
      "Epoch 75/100\n",
      "215/215 [==============================] - 16s 74ms/step - loss: 0.0188 - accuracy: 0.9949 - val_loss: 0.0839 - val_accuracy: 0.9688\n",
      "Epoch 76/100\n",
      "215/215 [==============================] - 15s 68ms/step - loss: 0.0178 - accuracy: 0.9945 - val_loss: 0.0750 - val_accuracy: 0.9717\n",
      "Epoch 77/100\n",
      "215/215 [==============================] - 15s 72ms/step - loss: 0.0154 - accuracy: 0.9952 - val_loss: 0.0844 - val_accuracy: 0.9736\n",
      "Epoch 78/100\n",
      "215/215 [==============================] - 15s 69ms/step - loss: 0.0148 - accuracy: 0.9954 - val_loss: 0.1078 - val_accuracy: 0.9678\n",
      "Epoch 79/100\n",
      "215/215 [==============================] - 15s 69ms/step - loss: 0.0158 - accuracy: 0.9952 - val_loss: 0.1471 - val_accuracy: 0.9621\n",
      "Epoch 80/100\n",
      "215/215 [==============================] - 15s 69ms/step - loss: 0.0163 - accuracy: 0.9949 - val_loss: 0.1030 - val_accuracy: 0.9690\n",
      "Epoch 81/100\n",
      "215/215 [==============================] - 15s 69ms/step - loss: 0.0146 - accuracy: 0.9952 - val_loss: 0.0936 - val_accuracy: 0.9730\n",
      "Epoch 82/100\n",
      "215/215 [==============================] - 15s 68ms/step - loss: 0.0141 - accuracy: 0.9957 - val_loss: 0.1180 - val_accuracy: 0.9600\n",
      "Epoch 83/100\n",
      "215/215 [==============================] - 15s 70ms/step - loss: 0.0140 - accuracy: 0.9957 - val_loss: 0.0772 - val_accuracy: 0.9748\n",
      "Epoch 84/100\n",
      "215/215 [==============================] - 15s 68ms/step - loss: 0.0200 - accuracy: 0.9940 - val_loss: 0.0862 - val_accuracy: 0.9735\n",
      "Epoch 85/100\n",
      "215/215 [==============================] - 14s 67ms/step - loss: 0.0151 - accuracy: 0.9957 - val_loss: 0.1814 - val_accuracy: 0.9550\n",
      "Epoch 86/100\n",
      "215/215 [==============================] - 15s 69ms/step - loss: 0.0145 - accuracy: 0.9955 - val_loss: 0.0737 - val_accuracy: 0.9796\n",
      "Epoch 87/100\n",
      "215/215 [==============================] - 15s 69ms/step - loss: 0.0193 - accuracy: 0.9937 - val_loss: 0.1132 - val_accuracy: 0.9696\n",
      "Epoch 88/100\n",
      "215/215 [==============================] - 14s 64ms/step - loss: 0.0168 - accuracy: 0.9950 - val_loss: 0.0790 - val_accuracy: 0.9732\n",
      "Epoch 89/100\n",
      "215/215 [==============================] - 14s 66ms/step - loss: 0.0153 - accuracy: 0.9947 - val_loss: 0.1029 - val_accuracy: 0.9720\n",
      "Epoch 90/100\n",
      "215/215 [==============================] - 14s 63ms/step - loss: 0.0138 - accuracy: 0.9961 - val_loss: 0.0635 - val_accuracy: 0.9762\n",
      "Epoch 91/100\n",
      "215/215 [==============================] - 14s 66ms/step - loss: 0.0127 - accuracy: 0.9962 - val_loss: 0.1052 - val_accuracy: 0.9714\n",
      "Epoch 92/100\n",
      "215/215 [==============================] - 14s 66ms/step - loss: 0.0141 - accuracy: 0.9959 - val_loss: 0.0842 - val_accuracy: 0.9720\n",
      "Epoch 93/100\n",
      "215/215 [==============================] - 14s 64ms/step - loss: 0.0165 - accuracy: 0.9948 - val_loss: 0.0927 - val_accuracy: 0.9746\n",
      "Epoch 94/100\n",
      "215/215 [==============================] - 14s 64ms/step - loss: 0.0162 - accuracy: 0.9944 - val_loss: 0.0906 - val_accuracy: 0.9702\n",
      "Epoch 95/100\n",
      "215/215 [==============================] - 14s 66ms/step - loss: 0.0153 - accuracy: 0.9949 - val_loss: 0.1003 - val_accuracy: 0.9695\n",
      "Epoch 96/100\n",
      "215/215 [==============================] - 14s 66ms/step - loss: 0.0129 - accuracy: 0.9957 - val_loss: 0.1025 - val_accuracy: 0.9679\n",
      "Epoch 97/100\n",
      "215/215 [==============================] - 14s 65ms/step - loss: 0.0121 - accuracy: 0.9962 - val_loss: 0.1004 - val_accuracy: 0.9706\n",
      "Epoch 98/100\n",
      "215/215 [==============================] - 14s 66ms/step - loss: 0.0161 - accuracy: 0.9954 - val_loss: 0.0979 - val_accuracy: 0.9728\n",
      "Epoch 99/100\n",
      "215/215 [==============================] - 14s 64ms/step - loss: 0.0115 - accuracy: 0.9966 - val_loss: 0.0806 - val_accuracy: 0.9725\n",
      "Epoch 100/100\n",
      "215/215 [==============================] - 15s 69ms/step - loss: 0.0118 - accuracy: 0.9965 - val_loss: 0.1027 - val_accuracy: 0.9713\n"
     ]
    }
   ],
   "source": [
    "history = model.fit(x_train, y_train, validation_data = (x_test, y_test), epochs=epochs, batch_size=batch_size)"
   ]
  },
  {
   "cell_type": "code",
   "execution_count": 34,
   "metadata": {},
   "outputs": [
    {
     "data": {
      "image/png": "[encoded data removed]",
      "text/plain": [
       "<Figure size 432x288 with 1 Axes>"
      ]
     },
     "metadata": {
      "needs_background": "light"
     },
     "output_type": "display_data"
    }
   ],
   "source": [
    "plt.plot(history.history['accuracy'])\n",
    "plt.plot(history.history['val_accuracy'])\n",
    "plt.title(\"Accuracy\")\n",
    "plt.xlabel('epoch')\n",
    "plt.ylabel('accuracy')\n",
    "plt.legend(['train','test'])\n",
    "plt.show()"
   ]
  },
  {
   "cell_type": "code",
   "execution_count": 35,
   "metadata": {},
   "outputs": [
    {
     "name": "stdout",
     "output_type": "stream",
     "text": [
      "INFO:tensorflow:Assets written to: model\\assets\n"
     ]
    }
   ],
   "source": [
    "model.save('model')"
   ]
  },
  {
   "cell_type": "code",
   "execution_count": 36,
   "metadata": {},
   "outputs": [],
   "source": [
    "import cv2\n",
    "from keras.preprocessing.image import img_to_array\n",
    "alphabet=['A','B','C','D','E','F','G','H','I','K','L','M','N','O','P','Q','R','S','T','U','V','W','X','Y']\n",
    "def classify(image):\n",
    "    image = cv2.resize(image, (28, 28))\n",
    "    image = image.astype(\"float\") / 255.0\n",
    "    image = img_to_array(image)\n",
    "    image = np.expand_dims(image, axis=0)\n",
    "    proba=model.predict(image)\n",
    "    idx = np.argmax(proba)\n",
    "    return alphabet[idx]"
   ]
  },
  {
   "cell_type": "code",
   "execution_count": 37,
   "metadata": {},
   "outputs": [
    {
     "data": {
      "text/plain": [
       "'C'"
      ]
     },
     "execution_count": 37,
     "metadata": {},
     "output_type": "execute_result"
    }
   ],
   "source": [
    "classify(x_train[3]*255)"
   ]
  },
  {
   "cell_type": "code",
   "execution_count": 38,
   "metadata": {},
   "outputs": [
    {
     "name": "stdout",
     "output_type": "stream",
     "text": [
      "[0 0 1 0 0 0 0 0 0 0 0 0 0 0 0 0 0 0 0 0 0 0 0 0]\n"
     ]
    }
   ],
   "source": [
    "print(y_train[3])"
   ]
  },
  {
   "cell_type": "code",
   "execution_count": null,
   "metadata": {},
   "outputs": [],
   "source": []
  },
  {
   "cell_type": "code",
   "execution_count": null,
   "metadata": {},
   "outputs": [],
   "source": []
  }
 ],
 "metadata": {
  "kernelspec": {
   "display_name": "Python 3 (ipykernel)",
   "language": "python",
   "name": "python3"
  },
  "language_info": {
   "codemirror_mode": {
    "name": "ipython",
    "version": 3
   },
   "file_extension": ".py",
   "mimetype": "text/x-python",
   "name": "python",
   "nbconvert_exporter": "python",
   "pygments_lexer": "ipython3",
   "version": "3.9.0"
  }
 },
 "nbformat": 4,
 "nbformat_minor": 2
}
